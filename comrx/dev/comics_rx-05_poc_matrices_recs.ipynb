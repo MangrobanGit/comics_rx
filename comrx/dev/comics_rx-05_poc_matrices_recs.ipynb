{
 "cells": [
  {
   "cell_type": "code",
   "execution_count": 4,
   "metadata": {},
   "outputs": [],
   "source": [
    "import pandas as pd\n",
    "import numpy as np"
   ]
  },
  {
   "cell_type": "code",
   "execution_count": 5,
   "metadata": {},
   "outputs": [],
   "source": [
    "pd.set_option('display.max_colwidth', -1)"
   ]
  },
  {
   "cell_type": "markdown",
   "metadata": {},
   "source": [
    "## Get modeled item factors"
   ]
  },
  {
   "cell_type": "code",
   "execution_count": 6,
   "metadata": {},
   "outputs": [],
   "source": [
    "comic_factors = pd.read_pickle('support_data/comics_factors.pkl')"
   ]
  },
  {
   "cell_type": "markdown",
   "metadata": {},
   "source": [
    "## Get user's comics"
   ]
  },
  {
   "cell_type": "code",
   "execution_count": 18,
   "metadata": {},
   "outputs": [],
   "source": [
    "comic_ids = [2171, 2637]"
   ]
  },
  {
   "cell_type": "code",
   "execution_count": 57,
   "metadata": {},
   "outputs": [
    {
     "data": {
      "text/plain": [
       "features       [0.4914298355579376, 0.22184216976165771, -0.7872840762138367, -0.9905602335929871, -0.3622240126132965]\n",
       "comic_title    Fables (Vertigo)                                                                                        \n",
       "img_url        https://comrx.s3-us-west-2.amazonaws.com/covers/fables.jpg                                              \n",
       "Name: 2171, dtype: object"
      ]
     },
     "execution_count": 57,
     "metadata": {},
     "output_type": "execute_result"
    }
   ],
   "source": [
    "comic_factors.loc[2171]"
   ]
  },
  {
   "cell_type": "code",
   "execution_count": 58,
   "metadata": {},
   "outputs": [
    {
     "data": {
      "text/plain": [
       "features       [0.08937276154756546, -0.12716685235500336, -0.8339032530784607, -0.9209315776824951, -0.5743098258972168]\n",
       "comic_title    Gideon Falls (Image)                                                                                      \n",
       "img_url        https://comrx.s3-us-west-2.amazonaws.com/covers/gideon_falls.jpg                                          \n",
       "Name: 2637, dtype: object"
      ]
     },
     "execution_count": 58,
     "metadata": {},
     "output_type": "execute_result"
    }
   ],
   "source": [
    "comic_factors.loc[2637]"
   ]
  },
  {
   "cell_type": "code",
   "execution_count": 16,
   "metadata": {},
   "outputs": [],
   "source": [
    "comic_ids = [45, 13, 56]"
   ]
  },
  {
   "cell_type": "code",
   "execution_count": 59,
   "metadata": {},
   "outputs": [
    {
     "data": {
      "text/plain": [
       "features       [-0.6718752384185791, -0.5461212992668152, -0.8061680197715759, -0.3349294662475586, -0.588319718837738]\n",
       "comic_title    4 Kids Walk Into a Bank (Other)                                                                         \n",
       "img_url        https://comrx.s3-us-west-2.amazonaws.com/covers/4_kids_walk_into_a_bank.jpg                             \n",
       "Name: 45, dtype: object"
      ]
     },
     "execution_count": 59,
     "metadata": {},
     "output_type": "execute_result"
    }
   ],
   "source": [
    "comic_factors.loc[45]"
   ]
  },
  {
   "cell_type": "code",
   "execution_count": 60,
   "metadata": {},
   "outputs": [
    {
     "data": {
      "text/plain": [
       "features       [-0.660622775554657, -0.2366572469472885, -0.8634084463119507, -0.005920375231653452, 0.540023148059845]\n",
       "comic_title    1985 Black Hole Repo (Other)                                                                            \n",
       "img_url        https://comrx.s3-us-west-2.amazonaws.com/covers/_no_cover_.jpg                                          \n",
       "Name: 13, dtype: object"
      ]
     },
     "execution_count": 60,
     "metadata": {},
     "output_type": "execute_result"
    }
   ],
   "source": [
    "comic_factors.loc[13]"
   ]
  },
  {
   "cell_type": "code",
   "execution_count": 61,
   "metadata": {},
   "outputs": [
    {
     "data": {
      "text/plain": [
       "features       [0.5547576546669006, -0.04429847374558449, -0.9259609580039978, 0.5181196331977844, -0.7316436171531677]\n",
       "comic_title    68 Scars (Image)                                                                                        \n",
       "img_url        https://comrx.s3-us-west-2.amazonaws.com/covers/68_scars.jpg                                            \n",
       "Name: 56, dtype: object"
      ]
     },
     "execution_count": 61,
     "metadata": {},
     "output_type": "execute_result"
    }
   ],
   "source": [
    "comic_factors.loc[56]"
   ]
  },
  {
   "cell_type": "code",
   "execution_count": 22,
   "metadata": {},
   "outputs": [
    {
     "data": {
      "text/plain": [
       "2"
      ]
     },
     "execution_count": 22,
     "metadata": {},
     "output_type": "execute_result"
    }
   ],
   "source": [
    "len(comic_ids)"
   ]
  },
  {
   "cell_type": "code",
   "execution_count": 31,
   "metadata": {},
   "outputs": [],
   "source": [
    "comic_ids = [45]"
   ]
  },
  {
   "cell_type": "markdown",
   "metadata": {},
   "source": [
    "## Get modeled item factors"
   ]
  },
  {
   "cell_type": "code",
   "execution_count": 8,
   "metadata": {},
   "outputs": [],
   "source": [
    "comic_factors = pd.read_pickle('support_data/comics_factors.pkl')"
   ]
  },
  {
   "cell_type": "code",
   "execution_count": 37,
   "metadata": {},
   "outputs": [],
   "source": [
    "comic_ids = [7126, 6105, 45, 2182]"
   ]
  },
  {
   "cell_type": "markdown",
   "metadata": {},
   "source": [
    "## Candidate Functions"
   ]
  },
  {
   "cell_type": "code",
   "execution_count": 25,
   "metadata": {},
   "outputs": [],
   "source": [
    "def make_n_comic_recommendations(comics, comic_factors, top_n):\n",
    "    # Create item matrix\n",
    "    comic_matrix = create_user_item_matrix(comic_ids=comics,\n",
    "                                           comic_factors=comic_factors\n",
    "                                          )\n",
    "    \n",
    "    # Create user matrix\n",
    "    user_matrix = create_user_impl_rate_matrix(comic_ids=comics)\n",
    "    \n",
    "    # Create utility matrix\n",
    "    utility_matrix = create_user_util_matrix(comic_matrix, user_matrix)\n",
    "    \n",
    "    # Update comic_factors dataframe for this user -> predicted scores!\n",
    "    cf = comic_factors.copy()\n",
    "    u = utility_matrix\n",
    "    cf['pred'] = cf['features'].apply(lambda x: np.dot(x, u))\n",
    "    \n",
    "    # Get recommendations\n",
    "    top_n_df = cf.sort_values(by=['pred'], ascending=False).head(top_n).copy()\n",
    "    top_n_df.reset_index(inplace=True)\n",
    "    top_n_df = top_n_df.loc[:,['comic_id','comic_title','img_url']].copy()\n",
    "    \n",
    "    return top_n_df"
   ]
  },
  {
   "cell_type": "markdown",
   "metadata": {},
   "source": [
    "### Get recommendations!\n"
   ]
  },
  {
   "cell_type": "code",
   "execution_count": 14,
   "metadata": {},
   "outputs": [],
   "source": [
    "top_n = 8"
   ]
  },
  {
   "cell_type": "code",
   "execution_count": 38,
   "metadata": {},
   "outputs": [
    {
     "data": {
      "text/html": [
       "<div>\n",
       "<style scoped>\n",
       "    .dataframe tbody tr th:only-of-type {\n",
       "        vertical-align: middle;\n",
       "    }\n",
       "\n",
       "    .dataframe tbody tr th {\n",
       "        vertical-align: top;\n",
       "    }\n",
       "\n",
       "    .dataframe thead th {\n",
       "        text-align: right;\n",
       "    }\n",
       "</style>\n",
       "<table border=\"1\" class=\"dataframe\">\n",
       "  <thead>\n",
       "    <tr style=\"text-align: right;\">\n",
       "      <th></th>\n",
       "      <th>comic_id</th>\n",
       "      <th>comic_title</th>\n",
       "      <th>img_url</th>\n",
       "    </tr>\n",
       "  </thead>\n",
       "  <tbody>\n",
       "    <tr>\n",
       "      <th>0</th>\n",
       "      <td>1004</td>\n",
       "      <td>Buffy the Vampire Slayer Spik (Dark Horse)</td>\n",
       "      <td>https://comrx.s3-us-west-2.amazonaws.com/covers/buffy_the_vampire_slayer_spik.jpg</td>\n",
       "    </tr>\n",
       "    <tr>\n",
       "      <th>1</th>\n",
       "      <td>1551</td>\n",
       "      <td>Dark Tower Gunslinger So Fel (Marvel)</td>\n",
       "      <td>https://comrx.s3-us-west-2.amazonaws.com/covers/dark_tower_gunslinger_so_fel.jpg</td>\n",
       "    </tr>\n",
       "    <tr>\n",
       "      <th>2</th>\n",
       "      <td>5940</td>\n",
       "      <td>Strange Aeons (Other)</td>\n",
       "      <td>https://comrx.s3-us-west-2.amazonaws.com/covers/strange_aeons.jpg</td>\n",
       "    </tr>\n",
       "    <tr>\n",
       "      <th>3</th>\n",
       "      <td>5107</td>\n",
       "      <td>Robert E Howards Savage Swor (Dark Horse)</td>\n",
       "      <td>https://comrx.s3-us-west-2.amazonaws.com/covers/_no_cover_.jpg</td>\n",
       "    </tr>\n",
       "    <tr>\n",
       "      <th>4</th>\n",
       "      <td>5386</td>\n",
       "      <td>Shadows On the Grave (Dark Horse)</td>\n",
       "      <td>https://comrx.s3-us-west-2.amazonaws.com/covers/shadows_on_the_grave.jpg</td>\n",
       "    </tr>\n",
       "    <tr>\n",
       "      <th>5</th>\n",
       "      <td>7088</td>\n",
       "      <td>X-Files Conspiracy Transforme (IDW)</td>\n",
       "      <td>https://comrx.s3-us-west-2.amazonaws.com/covers/x-files_conspiracy_transforme.jpg</td>\n",
       "    </tr>\n",
       "    <tr>\n",
       "      <th>6</th>\n",
       "      <td>3121</td>\n",
       "      <td>House of Mystery (Vertigo)</td>\n",
       "      <td>https://comrx.s3-us-west-2.amazonaws.com/covers/house_of_mystery.jpg</td>\n",
       "    </tr>\n",
       "    <tr>\n",
       "      <th>7</th>\n",
       "      <td>4831</td>\n",
       "      <td>Predator Fire and Stone (Dark Horse)</td>\n",
       "      <td>https://comrx.s3-us-west-2.amazonaws.com/covers/predator_fire_and_stone.jpg</td>\n",
       "    </tr>\n",
       "  </tbody>\n",
       "</table>\n",
       "</div>"
      ],
      "text/plain": [
       "   comic_id                                 comic_title  \\\n",
       "0  1004      Buffy the Vampire Slayer Spik (Dark Horse)   \n",
       "1  1551      Dark Tower Gunslinger So Fel (Marvel)        \n",
       "2  5940      Strange Aeons (Other)                        \n",
       "3  5107      Robert E Howards Savage Swor (Dark Horse)    \n",
       "4  5386      Shadows On the Grave (Dark Horse)            \n",
       "5  7088      X-Files Conspiracy Transforme (IDW)          \n",
       "6  3121      House of Mystery (Vertigo)                   \n",
       "7  4831      Predator Fire and Stone (Dark Horse)         \n",
       "\n",
       "                                                                             img_url  \n",
       "0  https://comrx.s3-us-west-2.amazonaws.com/covers/buffy_the_vampire_slayer_spik.jpg  \n",
       "1  https://comrx.s3-us-west-2.amazonaws.com/covers/dark_tower_gunslinger_so_fel.jpg   \n",
       "2  https://comrx.s3-us-west-2.amazonaws.com/covers/strange_aeons.jpg                  \n",
       "3  https://comrx.s3-us-west-2.amazonaws.com/covers/_no_cover_.jpg                     \n",
       "4  https://comrx.s3-us-west-2.amazonaws.com/covers/shadows_on_the_grave.jpg           \n",
       "5  https://comrx.s3-us-west-2.amazonaws.com/covers/x-files_conspiracy_transforme.jpg  \n",
       "6  https://comrx.s3-us-west-2.amazonaws.com/covers/house_of_mystery.jpg               \n",
       "7  https://comrx.s3-us-west-2.amazonaws.com/covers/predator_fire_and_stone.jpg        "
      ]
     },
     "execution_count": 38,
     "metadata": {},
     "output_type": "execute_result"
    }
   ],
   "source": [
    "results = make_n_comic_recommendations(comic_ids, comic_factors, top_n)\n",
    "\n",
    "results"
   ]
  },
  {
   "cell_type": "code",
   "execution_count": 51,
   "metadata": {},
   "outputs": [
    {
     "data": {
      "text/html": [
       "<div>\n",
       "<style scoped>\n",
       "    .dataframe tbody tr th:only-of-type {\n",
       "        vertical-align: middle;\n",
       "    }\n",
       "\n",
       "    .dataframe tbody tr th {\n",
       "        vertical-align: top;\n",
       "    }\n",
       "\n",
       "    .dataframe thead th {\n",
       "        text-align: right;\n",
       "    }\n",
       "</style>\n",
       "<table border=\"1\" class=\"dataframe\">\n",
       "  <thead>\n",
       "    <tr style=\"text-align: right;\">\n",
       "      <th></th>\n",
       "      <th>comic_id</th>\n",
       "      <th>comic_title</th>\n",
       "      <th>img_url</th>\n",
       "    </tr>\n",
       "  </thead>\n",
       "  <tbody>\n",
       "    <tr>\n",
       "      <th>0</th>\n",
       "      <td>1004</td>\n",
       "      <td>Buffy the Vampire Slayer Spik (Dark Horse)</td>\n",
       "      <td>https://comrx.s3-us-west-2.amazonaws.com/covers/buffy_the_vampire_slayer_spik.jpg</td>\n",
       "    </tr>\n",
       "    <tr>\n",
       "      <th>1</th>\n",
       "      <td>6313</td>\n",
       "      <td>Titan (Other)</td>\n",
       "      <td>https://comrx.s3-us-west-2.amazonaws.com/covers/titan.jpg</td>\n",
       "    </tr>\n",
       "    <tr>\n",
       "      <th>2</th>\n",
       "      <td>3121</td>\n",
       "      <td>House of Mystery (Vertigo)</td>\n",
       "      <td>https://comrx.s3-us-west-2.amazonaws.com/covers/house_of_mystery.jpg</td>\n",
       "    </tr>\n",
       "    <tr>\n",
       "      <th>3</th>\n",
       "      <td>6726</td>\n",
       "      <td>Usagi Yojimbo (Dark Horse)</td>\n",
       "      <td>https://comrx.s3-us-west-2.amazonaws.com/covers/usagi_yojimbo.jpg</td>\n",
       "    </tr>\n",
       "    <tr>\n",
       "      <th>4</th>\n",
       "      <td>5559</td>\n",
       "      <td>Snotgirl (Image)</td>\n",
       "      <td>https://comrx.s3-us-west-2.amazonaws.com/covers/snotgirl.jpg</td>\n",
       "    </tr>\n",
       "    <tr>\n",
       "      <th>5</th>\n",
       "      <td>4332</td>\n",
       "      <td>Motor Crush (Image)</td>\n",
       "      <td>https://comrx.s3-us-west-2.amazonaws.com/covers/motor_crush.jpg</td>\n",
       "    </tr>\n",
       "  </tbody>\n",
       "</table>\n",
       "</div>"
      ],
      "text/plain": [
       "   comic_id                                 comic_title  \\\n",
       "0  1004      Buffy the Vampire Slayer Spik (Dark Horse)   \n",
       "1  6313      Titan (Other)                                \n",
       "2  3121      House of Mystery (Vertigo)                   \n",
       "3  6726      Usagi Yojimbo (Dark Horse)                   \n",
       "4  5559      Snotgirl (Image)                             \n",
       "5  4332      Motor Crush (Image)                          \n",
       "\n",
       "                                                                             img_url  \n",
       "0  https://comrx.s3-us-west-2.amazonaws.com/covers/buffy_the_vampire_slayer_spik.jpg  \n",
       "1  https://comrx.s3-us-west-2.amazonaws.com/covers/titan.jpg                          \n",
       "2  https://comrx.s3-us-west-2.amazonaws.com/covers/house_of_mystery.jpg               \n",
       "3  https://comrx.s3-us-west-2.amazonaws.com/covers/usagi_yojimbo.jpg                  \n",
       "4  https://comrx.s3-us-west-2.amazonaws.com/covers/snotgirl.jpg                       \n",
       "5  https://comrx.s3-us-west-2.amazonaws.com/covers/motor_crush.jpg                    "
      ]
     },
     "execution_count": 51,
     "metadata": {},
     "output_type": "execute_result"
    }
   ],
   "source": [
    "results = make_n_comic_recommendations([610,7088], comic_factors, 6)\n",
    "\n",
    "results"
   ]
  },
  {
   "cell_type": "markdown",
   "metadata": {},
   "source": [
    "## Support Functions"
   ]
  },
  {
   "cell_type": "code",
   "execution_count": 24,
   "metadata": {},
   "outputs": [],
   "source": [
    "def create_user_item_matrix(comic_ids, comic_factors):\n",
    "    \"\"\"\n",
    "    Given list of user's comic preferences\n",
    "    and a pandas df with item (comic) factors\n",
    "    create a item matrix for the user\n",
    "    \"\"\"\n",
    "    # Get rank\n",
    "    num_latent_factors = len(comic_factors.features.iloc[0])\n",
    "    \n",
    "    # Initialize matrix\n",
    "    comics_mtx = np.zeros(shape=(len(comic_ids), num_latent_factors)) \n",
    "\n",
    "    for index, comic in enumerate(comic_ids):\n",
    "        #print(comic)\n",
    "        #com_idx = comics_factors.loc[comics_factors['cxomic_id']==comic].index.values[0]\n",
    "        comics_mtx[index, :] = np.array(comic_factors.loc[comic, 'features'])\n",
    "    \n",
    "    return comics_mtx"
   ]
  },
  {
   "cell_type": "code",
   "execution_count": 11,
   "metadata": {},
   "outputs": [],
   "source": [
    "def create_user_impl_rate_matrix(comic_ids, ratings_list=None):\n",
    "    \"\"\"\n",
    "    Given item matrix\n",
    "    create implicit ratings matrix\n",
    "    \"\"\"\n",
    "    if ratings_list is None:\n",
    "        n = len(comic_ids)\n",
    "        imp_rat_mtx = np.ones((n,1), 'int')\n",
    "    else:\n",
    "        imp_rat_mtx = np.array((ratings_list,)).T\n",
    "    \n",
    "    return imp_rat_mtx\n",
    "    "
   ]
  },
  {
   "cell_type": "code",
   "execution_count": 12,
   "metadata": {},
   "outputs": [],
   "source": [
    "def create_user_util_matrix(comics_matrix, user_rating_matrix):\n",
    "    \n",
    "    util_mtx = np.linalg.lstsq(comics_matrix, user_rating_matrix, rcond=None)\n",
    "\n",
    "    # We just want the factors\n",
    "    util_mtx = util_mtx[0].reshape((comics_matrix.shape[1],))\n",
    "\n",
    "    return util_mtx"
   ]
  },
  {
   "cell_type": "code",
   "execution_count": null,
   "metadata": {},
   "outputs": [],
   "source": []
  }
 ],
 "metadata": {
  "kernelspec": {
   "display_name": "Python 3",
   "language": "python",
   "name": "python3"
  },
  "language_info": {
   "codemirror_mode": {
    "name": "ipython",
    "version": 3
   },
   "file_extension": ".py",
   "mimetype": "text/x-python",
   "name": "python",
   "nbconvert_exporter": "python",
   "pygments_lexer": "ipython3",
   "version": "3.6.6"
  }
 },
 "nbformat": 4,
 "nbformat_minor": 2
}
