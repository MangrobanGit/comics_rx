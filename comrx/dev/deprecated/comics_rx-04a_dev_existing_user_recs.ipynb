{
 "cells": [
  {
   "cell_type": "markdown",
   "metadata": {},
   "source": [
    "# Comics Rx\n",
    "## [A comic book recommendation system](https://github.com/MangrobanGit/comics_rx)\n",
    "<img src=\"https://images.unsplash.com/photo-1514329926535-7f6dbfbfb114?ixlib=rb-1.2.1&ixid=eyJhcHBfaWQiOjEyMDd9&auto=format&fit=crop&w=2850&q=80\" width=\"400\" align='left'>"
   ]
  },
  {
   "cell_type": "markdown",
   "metadata": {},
   "source": [
    "---"
   ]
  },
  {
   "cell_type": "markdown",
   "metadata": {},
   "source": [
    "# 5 - ALS Model - 'Pseudo' Deployment\n",
    "\n",
    "This notebook is to explore and develop 'deploying' from a previously saved ALS model."
   ]
  },
  {
   "cell_type": "markdown",
   "metadata": {},
   "source": [
    "# Libraries"
   ]
  },
  {
   "cell_type": "code",
   "execution_count": 1,
   "metadata": {},
   "outputs": [],
   "source": [
    "%matplotlib inline\n",
    "%load_ext autoreload\n",
    "%autoreload 2  # 1 would be where you need to specify the files\n",
    "#%aimport data_fcns\n",
    "\n",
    "import pandas as pd # dataframes\n",
    "import os\n",
    "import time\n",
    "import numpy as np\n",
    "\n",
    "# Data storage\n",
    "from sqlalchemy import create_engine # SQL helper\n",
    "import psycopg2 as psql #PostgreSQL DBs\n",
    "\n",
    "# import necessary libraries\n",
    "import pyspark\n",
    "from pyspark.sql import SparkSession\n",
    "from pyspark.ml.evaluation import RegressionEvaluator\n",
    "# from pyspark.sql.types import (StructType, StructField, IntegerType\n",
    "#                                ,FloatType, LongType, StringType)\n",
    "from pyspark.sql.types import *\n",
    "\n",
    "import pyspark.sql.functions as F\n",
    "from pyspark.sql.functions import col, explode, lit, isnan, when, count\n",
    "from pyspark.ml.recommendation import ALS, ALSModel\n",
    "from pyspark.ml.evaluation import RegressionEvaluator\n",
    "from pyspark.ml.tuning import CrossValidator, ParamGridBuilder, TrainValidationSplit\n",
    "from pyspark.ml.evaluation import BinaryClassificationEvaluator\n",
    "\n",
    "# Custom\n",
    "import lib.data_fcns as dfc\n",
    "import lib.keys  # Custom keys lib\n",
    "import lib.comic_recs as cr"
   ]
  },
  {
   "cell_type": "code",
   "execution_count": 2,
   "metadata": {},
   "outputs": [],
   "source": [
    "# instantiate SparkSession object\n",
    "spark = pyspark.sql.SparkSession.builder.master(\"local[*]\").getOrCreate()\n",
    "# spark = SparkSession.builder.master(\"local\").getOrCreate()"
   ]
  },
  {
   "cell_type": "markdown",
   "metadata": {},
   "source": [
    "## Retrieving Saved Model"
   ]
  },
  {
   "cell_type": "code",
   "execution_count": 3,
   "metadata": {},
   "outputs": [],
   "source": [
    "comic_rec_model = ALSModel.load('als_filtered')"
   ]
  },
  {
   "cell_type": "code",
   "execution_count": 4,
   "metadata": {},
   "outputs": [
    {
     "name": "stdout",
     "output_type": "stream",
     "text": [
      "161\n"
     ]
    },
    {
     "data": {
      "text/html": [
       "<div>\n",
       "<style scoped>\n",
       "    .dataframe tbody tr th:only-of-type {\n",
       "        vertical-align: middle;\n",
       "    }\n",
       "\n",
       "    .dataframe tbody tr th {\n",
       "        vertical-align: top;\n",
       "    }\n",
       "\n",
       "    .dataframe thead th {\n",
       "        text-align: right;\n",
       "    }\n",
       "</style>\n",
       "<table border=\"1\" class=\"dataframe\">\n",
       "  <thead>\n",
       "    <tr style=\"text-align: right;\">\n",
       "      <th></th>\n",
       "      <th>comic_title</th>\n",
       "    </tr>\n",
       "  </thead>\n",
       "  <tbody>\n",
       "    <tr>\n",
       "      <th>1</th>\n",
       "      <td>Criminal (Image)</td>\n",
       "    </tr>\n",
       "    <tr>\n",
       "      <th>2</th>\n",
       "      <td>Bitch Planet (Image)</td>\n",
       "    </tr>\n",
       "    <tr>\n",
       "      <th>3</th>\n",
       "      <td>Royal City (Image)</td>\n",
       "    </tr>\n",
       "    <tr>\n",
       "      <th>4</th>\n",
       "      <td>Black Widow (Marvel)</td>\n",
       "    </tr>\n",
       "    <tr>\n",
       "      <th>5</th>\n",
       "      <td>All New Hawkeye (Marvel)</td>\n",
       "    </tr>\n",
       "    <tr>\n",
       "      <th>6</th>\n",
       "      <td>Shipwreck (Other)</td>\n",
       "    </tr>\n",
       "    <tr>\n",
       "      <th>7</th>\n",
       "      <td>Sex Criminals (Image)</td>\n",
       "    </tr>\n",
       "    <tr>\n",
       "      <th>8</th>\n",
       "      <td>Neil Gaiman American Gods Sha (Dark Horse)</td>\n",
       "    </tr>\n",
       "    <tr>\n",
       "      <th>9</th>\n",
       "      <td>Spider-Gwen (Marvel)</td>\n",
       "    </tr>\n",
       "    <tr>\n",
       "      <th>10</th>\n",
       "      <td>Sweet Tooth (Vertigo)</td>\n",
       "    </tr>\n",
       "    <tr>\n",
       "      <th>11</th>\n",
       "      <td>Paper Girls (Image)</td>\n",
       "    </tr>\n",
       "    <tr>\n",
       "      <th>12</th>\n",
       "      <td>Saga (Other)</td>\n",
       "    </tr>\n",
       "    <tr>\n",
       "      <th>13</th>\n",
       "      <td>Fade Out (Image)</td>\n",
       "    </tr>\n",
       "    <tr>\n",
       "      <th>14</th>\n",
       "      <td>Black Monday Murders (Image)</td>\n",
       "    </tr>\n",
       "    <tr>\n",
       "      <th>15</th>\n",
       "      <td>Outcast By Kirkman &amp; Azaceta (Image)</td>\n",
       "    </tr>\n",
       "    <tr>\n",
       "      <th>16</th>\n",
       "      <td>Barrier (Image)</td>\n",
       "    </tr>\n",
       "    <tr>\n",
       "      <th>17</th>\n",
       "      <td>Thor Annual (Marvel)</td>\n",
       "    </tr>\n",
       "    <tr>\n",
       "      <th>18</th>\n",
       "      <td>Death Or Glory (Image)</td>\n",
       "    </tr>\n",
       "    <tr>\n",
       "      <th>19</th>\n",
       "      <td>Kill Or Be Killed (Image)</td>\n",
       "    </tr>\n",
       "    <tr>\n",
       "      <th>20</th>\n",
       "      <td>Beasts of Burden Presence of (Dark Horse)</td>\n",
       "    </tr>\n",
       "    <tr>\n",
       "      <th>21</th>\n",
       "      <td>Mighty Thor (Marvel)</td>\n",
       "    </tr>\n",
       "    <tr>\n",
       "      <th>22</th>\n",
       "      <td>Goddamned (Image)</td>\n",
       "    </tr>\n",
       "    <tr>\n",
       "      <th>23</th>\n",
       "      <td>Cemetery Beach (Image)</td>\n",
       "    </tr>\n",
       "    <tr>\n",
       "      <th>24</th>\n",
       "      <td>Little Bird (Image)</td>\n",
       "    </tr>\n",
       "    <tr>\n",
       "      <th>25</th>\n",
       "      <td>Fight Club 2 (Dark Horse)</td>\n",
       "    </tr>\n",
       "    <tr>\n",
       "      <th>26</th>\n",
       "      <td>Nonplayer (Image)</td>\n",
       "    </tr>\n",
       "    <tr>\n",
       "      <th>27</th>\n",
       "      <td>House of Whispers (Vertigo)</td>\n",
       "    </tr>\n",
       "    <tr>\n",
       "      <th>28</th>\n",
       "      <td>Captain Marvel (Marvel)</td>\n",
       "    </tr>\n",
       "    <tr>\n",
       "      <th>29</th>\n",
       "      <td>Avengers Vs X-Men (Marvel)</td>\n",
       "    </tr>\n",
       "    <tr>\n",
       "      <th>30</th>\n",
       "      <td>Spider-Man (Marvel)</td>\n",
       "    </tr>\n",
       "    <tr>\n",
       "      <th>31</th>\n",
       "      <td>Thor (Marvel)</td>\n",
       "    </tr>\n",
       "    <tr>\n",
       "      <th>32</th>\n",
       "      <td>Frankenstein Underground (Dark Horse)</td>\n",
       "    </tr>\n",
       "    <tr>\n",
       "      <th>33</th>\n",
       "      <td>William Gibson Alien 3 (Dark Horse)</td>\n",
       "    </tr>\n",
       "    <tr>\n",
       "      <th>34</th>\n",
       "      <td>Iceman (Marvel)</td>\n",
       "    </tr>\n",
       "    <tr>\n",
       "      <th>35</th>\n",
       "      <td>Nova (Marvel)</td>\n",
       "    </tr>\n",
       "    <tr>\n",
       "      <th>36</th>\n",
       "      <td>Leviathan (Image)</td>\n",
       "    </tr>\n",
       "    <tr>\n",
       "      <th>37</th>\n",
       "      <td>Now Black Panther (Marvel)</td>\n",
       "    </tr>\n",
       "    <tr>\n",
       "      <th>38</th>\n",
       "      <td>Inhumanity (Marvel)</td>\n",
       "    </tr>\n",
       "    <tr>\n",
       "      <th>39</th>\n",
       "      <td>Shutter (Image)</td>\n",
       "    </tr>\n",
       "    <tr>\n",
       "      <th>40</th>\n",
       "      <td>Gideon Falls (Image)</td>\n",
       "    </tr>\n",
       "    <tr>\n",
       "      <th>41</th>\n",
       "      <td>Wormwood Goes To Washington (IDW)</td>\n",
       "    </tr>\n",
       "    <tr>\n",
       "      <th>42</th>\n",
       "      <td>Black Magick (Image)</td>\n",
       "    </tr>\n",
       "    <tr>\n",
       "      <th>43</th>\n",
       "      <td>Secret Wars (Marvel)</td>\n",
       "    </tr>\n",
       "    <tr>\n",
       "      <th>44</th>\n",
       "      <td>God Hates Astronauts (Image)</td>\n",
       "    </tr>\n",
       "    <tr>\n",
       "      <th>45</th>\n",
       "      <td>Space Riders (Other)</td>\n",
       "    </tr>\n",
       "    <tr>\n",
       "      <th>46</th>\n",
       "      <td>Now Hulk (Marvel)</td>\n",
       "    </tr>\n",
       "    <tr>\n",
       "      <th>47</th>\n",
       "      <td>Theyre Not Like Us (Image)</td>\n",
       "    </tr>\n",
       "    <tr>\n",
       "      <th>48</th>\n",
       "      <td>Avengers (Marvel)</td>\n",
       "    </tr>\n",
       "    <tr>\n",
       "      <th>49</th>\n",
       "      <td>Archie Vs Predator (Dark Horse)</td>\n",
       "    </tr>\n",
       "    <tr>\n",
       "      <th>50</th>\n",
       "      <td>Superior Iron Man (Marvel)</td>\n",
       "    </tr>\n",
       "  </tbody>\n",
       "</table>\n",
       "</div>"
      ],
      "text/plain": [
       "                                   comic_title\n",
       "1                             Criminal (Image)\n",
       "2                         Bitch Planet (Image)\n",
       "3                           Royal City (Image)\n",
       "4                         Black Widow (Marvel)\n",
       "5                     All New Hawkeye (Marvel)\n",
       "6                            Shipwreck (Other)\n",
       "7                        Sex Criminals (Image)\n",
       "8   Neil Gaiman American Gods Sha (Dark Horse)\n",
       "9                         Spider-Gwen (Marvel)\n",
       "10                       Sweet Tooth (Vertigo)\n",
       "11                         Paper Girls (Image)\n",
       "12                                Saga (Other)\n",
       "13                            Fade Out (Image)\n",
       "14                Black Monday Murders (Image)\n",
       "15        Outcast By Kirkman & Azaceta (Image)\n",
       "16                             Barrier (Image)\n",
       "17                        Thor Annual (Marvel)\n",
       "18                      Death Or Glory (Image)\n",
       "19                   Kill Or Be Killed (Image)\n",
       "20   Beasts of Burden Presence of (Dark Horse)\n",
       "21                        Mighty Thor (Marvel)\n",
       "22                           Goddamned (Image)\n",
       "23                      Cemetery Beach (Image)\n",
       "24                         Little Bird (Image)\n",
       "25                   Fight Club 2 (Dark Horse)\n",
       "26                           Nonplayer (Image)\n",
       "27                 House of Whispers (Vertigo)\n",
       "28                     Captain Marvel (Marvel)\n",
       "29                  Avengers Vs X-Men (Marvel)\n",
       "30                         Spider-Man (Marvel)\n",
       "31                               Thor (Marvel)\n",
       "32       Frankenstein Underground (Dark Horse)\n",
       "33         William Gibson Alien 3 (Dark Horse)\n",
       "34                             Iceman (Marvel)\n",
       "35                               Nova (Marvel)\n",
       "36                           Leviathan (Image)\n",
       "37                  Now Black Panther (Marvel)\n",
       "38                         Inhumanity (Marvel)\n",
       "39                             Shutter (Image)\n",
       "40                        Gideon Falls (Image)\n",
       "41           Wormwood Goes To Washington (IDW)\n",
       "42                        Black Magick (Image)\n",
       "43                        Secret Wars (Marvel)\n",
       "44                God Hates Astronauts (Image)\n",
       "45                        Space Riders (Other)\n",
       "46                           Now Hulk (Marvel)\n",
       "47                  Theyre Not Like Us (Image)\n",
       "48                           Avengers (Marvel)\n",
       "49             Archie Vs Predator (Dark Horse)\n",
       "50                  Superior Iron Man (Marvel)"
      ]
     },
     "execution_count": 4,
     "metadata": {},
     "output_type": "execute_result"
    }
   ],
   "source": [
    "top_n_df = cr.get_top_n_recs_for_user(spark=spark, model=comic_rec_model, topn=50)\n",
    "top_n_df"
   ]
  },
  {
   "cell_type": "markdown",
   "metadata": {},
   "source": [
    "I'm testing on myself. I'm pretty sure I've bought a few of those title's above. But this could be a failure in how I aggregated on series, but there some evidence of that failing. One example is *Gideon Falls*. There should be only one volume of that. Maybe it's graphic novels? But that shouldn't be an issue (no pun intended) because I believe the original dataset should just be individual comic books. \n",
    "\n",
    "Let's test versus the original dataset!"
   ]
  },
  {
   "cell_type": "markdown",
   "metadata": {},
   "source": [
    "#### Set aside some test series."
   ]
  },
  {
   "cell_type": "markdown",
   "metadata": {},
   "source": [
    "- Paper Girls (Image)\n",
    "- Saga (Other)\n",
    "- Fade Out (Image)\n",
    "\n",
    "These I know **for sure** I've bought, if not subscribed."
   ]
  },
  {
   "cell_type": "markdown",
   "metadata": {},
   "source": [
    "## Set up connection to AWS RDS"
   ]
  },
  {
   "cell_type": "code",
   "execution_count": 157,
   "metadata": {},
   "outputs": [
    {
     "data": {
      "text/plain": [
       "'/Users/werlindo/.secret/aws_ps_flatiron.json'"
      ]
     },
     "execution_count": 157,
     "metadata": {},
     "output_type": "execute_result"
    }
   ],
   "source": [
    "# Define path to secret\n",
    "secret_path_aws = os.path.join(os.environ['HOME'], '.secret', \n",
    "                           'aws_ps_flatiron.json')\n",
    "secret_path_aws"
   ]
  },
  {
   "cell_type": "code",
   "execution_count": 158,
   "metadata": {},
   "outputs": [],
   "source": [
    "aws_keys = keys.get_keys(secret_path_aws)\n",
    "user = aws_keys['user']\n",
    "ps = aws_keys['password']\n",
    "host = aws_keys['host']\n",
    "db = aws_keys['db_name']\n",
    "\n",
    "aws_ps_engine = ('postgresql://' + user + ':' + ps + '@' + host + '/' + db)"
   ]
  },
  {
   "cell_type": "code",
   "execution_count": 159,
   "metadata": {},
   "outputs": [],
   "source": [
    "# Setup PSQL connection\n",
    "conn = psql.connect(\n",
    "    database=db,\n",
    "    user=user,\n",
    "    password=ps,\n",
    "    host=host,\n",
    "    port='5432'\n",
    ")"
   ]
  },
  {
   "cell_type": "code",
   "execution_count": 160,
   "metadata": {},
   "outputs": [],
   "source": [
    "# Instantiate cursor\n",
    "cur = conn.cursor()"
   ]
  },
  {
   "cell_type": "code",
   "execution_count": 161,
   "metadata": {},
   "outputs": [],
   "source": [
    "#  Count records.\n",
    "query = \"\"\"\n",
    "    SELECT\n",
    "       *\n",
    "    FROM \n",
    "        comic_trans \n",
    "    WHERE\n",
    "        account_num = '00161'\n",
    "    ;\n",
    "\"\"\""
   ]
  },
  {
   "cell_type": "code",
   "execution_count": 162,
   "metadata": {},
   "outputs": [],
   "source": [
    "conn.rollback()"
   ]
  },
  {
   "cell_type": "code",
   "execution_count": 163,
   "metadata": {},
   "outputs": [],
   "source": [
    "# Execute the query\n",
    "cur.execute(query)"
   ]
  },
  {
   "cell_type": "code",
   "execution_count": 164,
   "metadata": {},
   "outputs": [],
   "source": [
    "# Check results\n",
    "temp_df = pd.DataFrame(cur.fetchall())\n",
    "temp_df.columns = [col.name for col in cur.description]"
   ]
  },
  {
   "cell_type": "code",
   "execution_count": 165,
   "metadata": {},
   "outputs": [
    {
     "data": {
      "text/html": [
       "<div>\n",
       "<style scoped>\n",
       "    .dataframe tbody tr th:only-of-type {\n",
       "        vertical-align: middle;\n",
       "    }\n",
       "\n",
       "    .dataframe tbody tr th {\n",
       "        vertical-align: top;\n",
       "    }\n",
       "\n",
       "    .dataframe thead th {\n",
       "        text-align: right;\n",
       "    }\n",
       "</style>\n",
       "<table border=\"1\" class=\"dataframe\">\n",
       "  <thead>\n",
       "    <tr style=\"text-align: right;\">\n",
       "      <th></th>\n",
       "      <th>index</th>\n",
       "      <th>publisher</th>\n",
       "      <th>item_id</th>\n",
       "      <th>title_and_num</th>\n",
       "      <th>qty_sold</th>\n",
       "      <th>date_sold</th>\n",
       "      <th>account_num</th>\n",
       "      <th>comic_title</th>\n",
       "    </tr>\n",
       "  </thead>\n",
       "  <tbody>\n",
       "    <tr>\n",
       "      <th>0</th>\n",
       "      <td>33</td>\n",
       "      <td>Archie Comics</td>\n",
       "      <td>DCD617897</td>\n",
       "      <td>Afterlife With Archie #1 Franc</td>\n",
       "      <td>1</td>\n",
       "      <td>2013-10-30 15:14:23</td>\n",
       "      <td>00161</td>\n",
       "      <td>Afterlife With Archie (Archie)</td>\n",
       "    </tr>\n",
       "    <tr>\n",
       "      <th>1</th>\n",
       "      <td>43</td>\n",
       "      <td>Archie Comics</td>\n",
       "      <td>DCD617564</td>\n",
       "      <td>Afterlife With Archie #1 Reg C</td>\n",
       "      <td>1</td>\n",
       "      <td>2013-10-30 15:14:23</td>\n",
       "      <td>00161</td>\n",
       "      <td>Afterlife With Archie (Archie)</td>\n",
       "    </tr>\n",
       "    <tr>\n",
       "      <th>2</th>\n",
       "      <td>54</td>\n",
       "      <td>Archie Comics</td>\n",
       "      <td>DCDL012758</td>\n",
       "      <td>Afterlife With Archie #10 Cvr</td>\n",
       "      <td>1</td>\n",
       "      <td>2016-09-04 11:08:02</td>\n",
       "      <td>00161</td>\n",
       "      <td>Afterlife With Archie (Archie)</td>\n",
       "    </tr>\n",
       "    <tr>\n",
       "      <th>3</th>\n",
       "      <td>104</td>\n",
       "      <td>Archie Comics</td>\n",
       "      <td>DCD622673</td>\n",
       "      <td>Afterlife With Archie #3 Reg F</td>\n",
       "      <td>1</td>\n",
       "      <td>2014-01-24 11:42:27</td>\n",
       "      <td>00161</td>\n",
       "      <td>Afterlife With Archie (Archie)</td>\n",
       "    </tr>\n",
       "    <tr>\n",
       "      <th>4</th>\n",
       "      <td>124</td>\n",
       "      <td>Archie Comics</td>\n",
       "      <td>DCD625043</td>\n",
       "      <td>Afterlife With Archie #4 Reg F</td>\n",
       "      <td>1</td>\n",
       "      <td>2014-03-12 18:12:06</td>\n",
       "      <td>00161</td>\n",
       "      <td>Afterlife With Archie (Archie)</td>\n",
       "    </tr>\n",
       "  </tbody>\n",
       "</table>\n",
       "</div>"
      ],
      "text/plain": [
       "   index      publisher     item_id                   title_and_num  qty_sold  \\\n",
       "0     33  Archie Comics   DCD617897  Afterlife With Archie #1 Franc         1   \n",
       "1     43  Archie Comics   DCD617564  Afterlife With Archie #1 Reg C         1   \n",
       "2     54  Archie Comics  DCDL012758   Afterlife With Archie #10 Cvr         1   \n",
       "3    104  Archie Comics   DCD622673  Afterlife With Archie #3 Reg F         1   \n",
       "4    124  Archie Comics   DCD625043  Afterlife With Archie #4 Reg F         1   \n",
       "\n",
       "            date_sold account_num                     comic_title  \n",
       "0 2013-10-30 15:14:23       00161  Afterlife With Archie (Archie)  \n",
       "1 2013-10-30 15:14:23       00161  Afterlife With Archie (Archie)  \n",
       "2 2016-09-04 11:08:02       00161  Afterlife With Archie (Archie)  \n",
       "3 2014-01-24 11:42:27       00161  Afterlife With Archie (Archie)  \n",
       "4 2014-03-12 18:12:06       00161  Afterlife With Archie (Archie)  "
      ]
     },
     "execution_count": 165,
     "metadata": {},
     "output_type": "execute_result"
    }
   ],
   "source": [
    "temp_df.head()"
   ]
  },
  {
   "cell_type": "code",
   "execution_count": 167,
   "metadata": {},
   "outputs": [],
   "source": [
    "# Make a list of test comic_title\n",
    "already_bought = ['Paper Girls (Image)', 'Saga (Other)', 'Fade Out (Image)',\n",
    "                  'Sweet Tooth (Vertigo)']"
   ]
  },
  {
   "cell_type": "code",
   "execution_count": 173,
   "metadata": {},
   "outputs": [
    {
     "data": {
      "text/plain": [
       "array(['Fade Out (Image)', 'Paper Girls (Image)', 'Saga (Other)'],\n",
       "      dtype=object)"
      ]
     },
     "execution_count": 173,
     "metadata": {},
     "output_type": "execute_result"
    }
   ],
   "source": [
    "temp_df.loc[temp_df['comic_title'].isin(already_bought), ['comic_title']].comic_title.unique()"
   ]
  },
  {
   "cell_type": "markdown",
   "metadata": {},
   "source": [
    "Ok, so I already knew this was the case, but just wanted to confirm."
   ]
  },
  {
   "cell_type": "markdown",
   "metadata": {},
   "source": [
    "## Don't repeat already bought comics\n",
    "\n",
    "Let's filter out comics already bought. To support this I think I want a `json` file I could use as a pseudo-database to look up existing account-comic_title relationships."
   ]
  },
  {
   "cell_type": "code",
   "execution_count": 61,
   "metadata": {},
   "outputs": [],
   "source": [
    "#  Count records.\n",
    "query = \"\"\"\n",
    "    SELECT\n",
    "        DISTINCT \n",
    "        CAST(account_num AS INT) as account_id\n",
    "        ,c.comic_id\n",
    "    FROM \n",
    "        comic_trans ct\n",
    "        inner join comics c on ct.comic_title = c.comic_title\n",
    "    ;\n",
    "\"\"\""
   ]
  },
  {
   "cell_type": "code",
   "execution_count": 62,
   "metadata": {},
   "outputs": [],
   "source": [
    "# conn.rollback()"
   ]
  },
  {
   "cell_type": "code",
   "execution_count": 63,
   "metadata": {},
   "outputs": [],
   "source": [
    "# Execute the query\n",
    "cur.execute(query)"
   ]
  },
  {
   "cell_type": "code",
   "execution_count": 64,
   "metadata": {},
   "outputs": [],
   "source": [
    "# Check results\n",
    "temp_df = pd.DataFrame(cur.fetchall())\n",
    "temp_df.columns = [col.name for col in cur.description]"
   ]
  },
  {
   "cell_type": "code",
   "execution_count": 65,
   "metadata": {},
   "outputs": [
    {
     "data": {
      "text/html": [
       "<div>\n",
       "<style scoped>\n",
       "    .dataframe tbody tr th:only-of-type {\n",
       "        vertical-align: middle;\n",
       "    }\n",
       "\n",
       "    .dataframe tbody tr th {\n",
       "        vertical-align: top;\n",
       "    }\n",
       "\n",
       "    .dataframe thead th {\n",
       "        text-align: right;\n",
       "    }\n",
       "</style>\n",
       "<table border=\"1\" class=\"dataframe\">\n",
       "  <thead>\n",
       "    <tr style=\"text-align: right;\">\n",
       "      <th></th>\n",
       "      <th>account_id</th>\n",
       "      <th>comic_id</th>\n",
       "    </tr>\n",
       "  </thead>\n",
       "  <tbody>\n",
       "    <tr>\n",
       "      <th>0</th>\n",
       "      <td>2</td>\n",
       "      <td>198</td>\n",
       "    </tr>\n",
       "    <tr>\n",
       "      <th>1</th>\n",
       "      <td>2</td>\n",
       "      <td>223</td>\n",
       "    </tr>\n",
       "    <tr>\n",
       "      <th>2</th>\n",
       "      <td>2</td>\n",
       "      <td>224</td>\n",
       "    </tr>\n",
       "    <tr>\n",
       "      <th>3</th>\n",
       "      <td>2</td>\n",
       "      <td>312</td>\n",
       "    </tr>\n",
       "    <tr>\n",
       "      <th>4</th>\n",
       "      <td>2</td>\n",
       "      <td>392</td>\n",
       "    </tr>\n",
       "  </tbody>\n",
       "</table>\n",
       "</div>"
      ],
      "text/plain": [
       "   account_id  comic_id\n",
       "0           2       198\n",
       "1           2       223\n",
       "2           2       224\n",
       "3           2       312\n",
       "4           2       392"
      ]
     },
     "execution_count": 65,
     "metadata": {},
     "output_type": "execute_result"
    }
   ],
   "source": [
    "temp_df.head()"
   ]
  },
  {
   "cell_type": "code",
   "execution_count": 66,
   "metadata": {},
   "outputs": [],
   "source": [
    "temp_df.to_json('support_data/acct_comics.json', orient='records'\n",
    "                     ,lines=True)"
   ]
  },
  {
   "cell_type": "code",
   "execution_count": 67,
   "metadata": {},
   "outputs": [
    {
     "name": "stdout",
     "output_type": "stream",
     "text": [
      "{\"account_id\":2,\"comic_id\":198}\r\n",
      "{\"account_id\":2,\"comic_id\":223}\r\n",
      "{\"account_id\":2,\"comic_id\":224}\r\n",
      "{\"account_id\":2,\"comic_id\":312}\r\n",
      "{\"account_id\":2,\"comic_id\":392}\r\n",
      "{\"account_id\":2,\"comic_id\":455}\r\n",
      "{\"account_id\":2,\"comic_id\":481}\r\n",
      "{\"account_id\":2,\"comic_id\":482}\r\n",
      "{\"account_id\":2,\"comic_id\":828}\r\n",
      "{\"account_id\":2,\"comic_id\":841}\r\n"
     ]
    }
   ],
   "source": [
    "!head support_data/acct_comics.json"
   ]
  },
  {
   "cell_type": "markdown",
   "metadata": {},
   "source": [
    "## Recommendation function 2.0"
   ]
  },
  {
   "cell_type": "markdown",
   "metadata": {},
   "source": [
    "Let's bring back the dev on returning recommendations:"
   ]
  },
  {
   "cell_type": "code",
   "execution_count": 36,
   "metadata": {},
   "outputs": [],
   "source": [
    "def get_top_n_recs_for_user(spark, model, topn=10):\n",
    "    \"\"\"\n",
    "    Given requested n and ALS model, returns top n recommended comics\n",
    "    \"\"\"\n",
    "    tgt_acct_id = input()\n",
    "\n",
    "    # Create spark df manually\n",
    "    a_schema = StructType([StructField(\"account_id\", LongType())])\n",
    "\n",
    "    # Init lists\n",
    "    tgt_list = []\n",
    "    acct_list = []\n",
    "    tgt_list.append(int(tgt_acct_id))\n",
    "    acct_list.append(tgt_list)\n",
    "\n",
    "    # Create one-row spark df\n",
    "    tgt_accts = spark.createDataFrame(acct_list, schema=a_schema) \n",
    "\n",
    "    # Get recommendations for user\n",
    "    userSubsetRecs = model.recommendForUserSubset(tgt_accts, topn)\n",
    "    userSubsetRecs.persist()\n",
    "\n",
    "    # Flatten the recs list\n",
    "    top_n_exploded = (userSubsetRecs.withColumn('tmp',explode('recommendations'))\n",
    "            .select('account_id', col(\"tmp.comic_id\"), col(\"tmp.rating\")))\n",
    "    top_n_exploded.persist()\n",
    "\n",
    "    # Get comics titles\n",
    "    comics = spark.read.json('raw_data/comics.json')\n",
    "    comics.persist()\n",
    "    \n",
    "    # shorten with alias\n",
    "    top_n = top_n_exploded.alias('topn')\n",
    "    com = comics.alias('com')\n",
    "\n",
    "    # Clean up the spark df to list of titles\n",
    "    top_n_titles = (top_n.join(com.select('comic_id','comic_title')\n",
    "                          ,top_n.comic_id==com.comic_id)\n",
    "                 .select('comic_title'))\n",
    "    top_n_titles.persist()\n",
    "\n",
    "    # Cast to pandas df and return it\n",
    "    top_n_df = top_n_titles.select('*').toPandas()\n",
    "    top_n_df.index += 1\n",
    "    \n",
    "    return top_n_df"
   ]
  },
  {
   "cell_type": "code",
   "execution_count": 142,
   "metadata": {},
   "outputs": [],
   "source": [
    "top_n_req = 10"
   ]
  },
  {
   "cell_type": "code",
   "execution_count": 143,
   "metadata": {},
   "outputs": [
    {
     "name": "stdout",
     "output_type": "stream",
     "text": [
      "161\n"
     ]
    },
    {
     "data": {
      "text/html": [
       "<div>\n",
       "<style scoped>\n",
       "    .dataframe tbody tr th:only-of-type {\n",
       "        vertical-align: middle;\n",
       "    }\n",
       "\n",
       "    .dataframe tbody tr th {\n",
       "        vertical-align: top;\n",
       "    }\n",
       "\n",
       "    .dataframe thead th {\n",
       "        text-align: right;\n",
       "    }\n",
       "</style>\n",
       "<table border=\"1\" class=\"dataframe\">\n",
       "  <thead>\n",
       "    <tr style=\"text-align: right;\">\n",
       "      <th></th>\n",
       "      <th>comic_title</th>\n",
       "    </tr>\n",
       "  </thead>\n",
       "  <tbody>\n",
       "    <tr>\n",
       "      <th>1</th>\n",
       "      <td>Criminal (Image)</td>\n",
       "    </tr>\n",
       "    <tr>\n",
       "      <th>2</th>\n",
       "      <td>Bitch Planet (Image)</td>\n",
       "    </tr>\n",
       "    <tr>\n",
       "      <th>3</th>\n",
       "      <td>Royal City (Image)</td>\n",
       "    </tr>\n",
       "    <tr>\n",
       "      <th>4</th>\n",
       "      <td>Black Widow (Marvel)</td>\n",
       "    </tr>\n",
       "    <tr>\n",
       "      <th>5</th>\n",
       "      <td>All New Hawkeye (Marvel)</td>\n",
       "    </tr>\n",
       "    <tr>\n",
       "      <th>6</th>\n",
       "      <td>Shipwreck (Other)</td>\n",
       "    </tr>\n",
       "    <tr>\n",
       "      <th>7</th>\n",
       "      <td>Sex Criminals (Image)</td>\n",
       "    </tr>\n",
       "    <tr>\n",
       "      <th>8</th>\n",
       "      <td>Neil Gaiman American Gods Sha (Dark Horse)</td>\n",
       "    </tr>\n",
       "    <tr>\n",
       "      <th>9</th>\n",
       "      <td>Spider-Gwen (Marvel)</td>\n",
       "    </tr>\n",
       "    <tr>\n",
       "      <th>10</th>\n",
       "      <td>Sweet Tooth (Vertigo)</td>\n",
       "    </tr>\n",
       "  </tbody>\n",
       "</table>\n",
       "</div>"
      ],
      "text/plain": [
       "                                   comic_title\n",
       "1                             Criminal (Image)\n",
       "2                         Bitch Planet (Image)\n",
       "3                           Royal City (Image)\n",
       "4                         Black Widow (Marvel)\n",
       "5                     All New Hawkeye (Marvel)\n",
       "6                            Shipwreck (Other)\n",
       "7                        Sex Criminals (Image)\n",
       "8   Neil Gaiman American Gods Sha (Dark Horse)\n",
       "9                         Spider-Gwen (Marvel)\n",
       "10                       Sweet Tooth (Vertigo)"
      ]
     },
     "execution_count": 143,
     "metadata": {},
     "output_type": "execute_result"
    }
   ],
   "source": [
    "top_n_df = get_top_n_recs_for_user(spark=spark, model=comic_rec_model, topn=top_n_req)\n",
    "top_n_df"
   ]
  },
  {
   "cell_type": "code",
   "execution_count": 38,
   "metadata": {},
   "outputs": [
    {
     "name": "stdout",
     "output_type": "stream",
     "text": [
      "161\n"
     ]
    }
   ],
   "source": [
    "tgt_acct_id = input()"
   ]
  },
  {
   "cell_type": "code",
   "execution_count": 39,
   "metadata": {},
   "outputs": [
    {
     "data": {
      "text/plain": [
       "'161'"
      ]
     },
     "execution_count": 39,
     "metadata": {},
     "output_type": "execute_result"
    }
   ],
   "source": [
    "tgt_acct_id"
   ]
  },
  {
   "cell_type": "code",
   "execution_count": 40,
   "metadata": {},
   "outputs": [
    {
     "name": "stdout",
     "output_type": "stream",
     "text": [
      "+----------+\n",
      "|account_id|\n",
      "+----------+\n",
      "|       161|\n",
      "+----------+\n",
      "\n"
     ]
    }
   ],
   "source": [
    "# Create spark df manually\n",
    "a_schema = StructType([StructField(\"account_id\", LongType())])\n",
    "\n",
    "# Init lists\n",
    "tgt_list = []\n",
    "acct_list = []\n",
    "tgt_list.append(int(tgt_acct_id))\n",
    "acct_list.append(tgt_list)\n",
    "\n",
    "# Create one-row spark df\n",
    "tgt_accts = spark.createDataFrame(acct_list, schema=a_schema) \n",
    "tgt_accts.show()"
   ]
  },
  {
   "cell_type": "code",
   "execution_count": 144,
   "metadata": {},
   "outputs": [
    {
     "name": "stdout",
     "output_type": "stream",
     "text": [
      "+----------+--------------------+\n",
      "|account_id|     recommendations|\n",
      "+----------+--------------------+\n",
      "|       161|[[1401, 1.3040708...|\n",
      "+----------+--------------------+\n",
      "\n"
     ]
    }
   ],
   "source": [
    "# Get recommendations for user\n",
    "userSubsetRecs = comic_rec_model.recommendForUserSubset(tgt_accts, 3 * top_n_req)\n",
    "userSubsetRecs.persist()\n",
    "userSubsetRecs.show()"
   ]
  },
  {
   "cell_type": "code",
   "execution_count": 146,
   "metadata": {},
   "outputs": [
    {
     "name": "stdout",
     "output_type": "stream",
     "text": [
      "+----------+--------+---------+\n",
      "|account_id|comic_id|   rating|\n",
      "+----------+--------+---------+\n",
      "|       161|    1401|1.3040708|\n",
      "|       161|     773|1.2929938|\n",
      "|       161|    5177|1.2767146|\n",
      "|       161|     843|1.2509787|\n",
      "|       161|     184|1.2063307|\n",
      "|       161|    5429|1.1961331|\n",
      "|       161|    5348| 1.163892|\n",
      "|       161|    4441|1.1624106|\n",
      "|       161|    5638|1.1442554|\n",
      "|       161|    6105|1.1323442|\n",
      "|       161|    4701|1.1222775|\n",
      "|       161|    5199| 1.121197|\n",
      "|       161|    2173|1.1172707|\n",
      "|       161|     821|1.0972763|\n",
      "|       161|    4677|1.0927831|\n",
      "|       161|     542|1.0840032|\n",
      "|       161|    6254|1.0827938|\n",
      "|       161|    1759|1.0721922|\n",
      "|       161|    3700|1.0625639|\n",
      "|       161|     700|1.0597908|\n",
      "|       161|    4248| 1.054276|\n",
      "|       161|    2677|1.0526923|\n",
      "|       161|    1181|1.0446754|\n",
      "|       161|    3882|1.0403907|\n",
      "|       161|    2286| 1.032107|\n",
      "|       161|    4523|1.0250592|\n",
      "|       161|    3123|1.0216975|\n",
      "|       161|    1099|1.0135539|\n",
      "|       161|     478|1.0133972|\n",
      "|       161|    5670|1.0087655|\n",
      "+----------+--------+---------+\n",
      "\n"
     ]
    }
   ],
   "source": [
    "# Flatten the recs list\n",
    "top_n_exploded = (userSubsetRecs.withColumn('tmp',explode('recommendations'))\n",
    "        .select('account_id', col(\"tmp.comic_id\"), col(\"tmp.rating\")))\n",
    "top_n_exploded.persist()\n",
    "top_n_exploded.show(top_n_req*3)"
   ]
  },
  {
   "cell_type": "code",
   "execution_count": 147,
   "metadata": {},
   "outputs": [
    {
     "name": "stdout",
     "output_type": "stream",
     "text": [
      "+--------+--------------------+\n",
      "|comic_id|         comic_title|\n",
      "+--------+--------------------+\n",
      "|       1|0Secret Wars (Mar...|\n",
      "|       2|100 Bullets Broth...|\n",
      "|       3|100 Penny Press L...|\n",
      "|       4|100 Penny Press S...|\n",
      "|       5|100 Penny Press T...|\n",
      "|       6|100 Penny Press T...|\n",
      "|       7|100th Anniversary...|\n",
      "|       8|12 Reasons To Die...|\n",
      "|       9|    13 Coins (Other)|\n",
      "|      10|13th Artifact One...|\n",
      "+--------+--------------------+\n",
      "only showing top 10 rows\n",
      "\n"
     ]
    }
   ],
   "source": [
    "# Get comics titles\n",
    "comics = spark.read.json('support_data/comics.json')\n",
    "comics.persist()\n",
    "comics.show(10)"
   ]
  },
  {
   "cell_type": "code",
   "execution_count": 148,
   "metadata": {},
   "outputs": [
    {
     "name": "stdout",
     "output_type": "stream",
     "text": [
      "+-------+------+\n",
      "|acct_id|cmc_id|\n",
      "+-------+------+\n",
      "|      2|   198|\n",
      "|      2|   223|\n",
      "|      2|   224|\n",
      "|      2|   312|\n",
      "|      2|   392|\n",
      "|      2|   455|\n",
      "|      2|   481|\n",
      "|      2|   482|\n",
      "|      2|   828|\n",
      "|      2|   841|\n",
      "+-------+------+\n",
      "only showing top 10 rows\n",
      "\n"
     ]
    }
   ],
   "source": [
    "# Get account to comics xwalk\n",
    "acct_comics = spark.read.json('support_data/acct_comics.json')\n",
    "# acct_comics = acct_comics.select('account_id')\n",
    "acct_comics = (\n",
    "                acct_comics.withColumnRenamed('account_id','acct_id')\n",
    "                .withColumnRenamed('comic_id', 'cmc_id')\n",
    "              )\n",
    "acct_comics.persist()\n",
    "acct_comics.show(10)"
   ]
  },
  {
   "cell_type": "code",
   "execution_count": 150,
   "metadata": {},
   "outputs": [],
   "source": [
    "# shorten with alias\n",
    "top_n = top_n_exploded.alias('topn')\n",
    "com = comics.alias('com')\n",
    "ac = acct_comics.alias('ac')"
   ]
  },
  {
   "cell_type": "code",
   "execution_count": 140,
   "metadata": {},
   "outputs": [
    {
     "name": "stdout",
     "output_type": "stream",
     "text": [
      "+----------+--------+\n",
      "|account_id|comic_id|\n",
      "+----------+--------+\n",
      "|       161|     773|\n",
      "|       161|     843|\n",
      "|       161|     184|\n",
      "|       161|    5429|\n",
      "|       161|    5348|\n",
      "|       161|    4441|\n",
      "|       161|    5638|\n",
      "|       161|    6105|\n",
      "|       161|     821|\n",
      "|       161|    4677|\n",
      "|       161|    6254|\n",
      "|       161|    1759|\n",
      "|       161|     700|\n",
      "+----------+--------+\n",
      "\n"
     ]
    }
   ],
   "source": [
    "# Arleady bought\n",
    "recs_prev_bought = (\n",
    "                    top_n.join(ac, [top_n.account_id==ac.acct_id,\n",
    "                                    top_n.comic_id==ac.cmc_id], 'left')\n",
    "                    .filter('ac.acct_id is null') \n",
    "                    .select('account_id', 'comic_id')\n",
    ")\n",
    "recs_prev_bought.persist()\n",
    "recs_prev_bought.show()"
   ]
  },
  {
   "cell_type": "code",
   "execution_count": 178,
   "metadata": {},
   "outputs": [
    {
     "name": "stdout",
     "output_type": "stream",
     "text": [
      "+--------------------+\n",
      "|         comic_title|\n",
      "+--------------------+\n",
      "|Bitch Planet (Image)|\n",
      "|Black Widow (Marvel)|\n",
      "|All New Hawkeye (...|\n",
      "|   Shipwreck (Other)|\n",
      "|Sex Criminals (Im...|\n",
      "|Neil Gaiman Ameri...|\n",
      "|Spider-Gwen (Marvel)|\n",
      "|Sweet Tooth (Vert...|\n",
      "|Black Monday Murd...|\n",
      "|Outcast By Kirkma...|\n",
      "+--------------------+\n",
      "only showing top 10 rows\n",
      "\n"
     ]
    }
   ],
   "source": [
    "# Clean up the spark df to list of titles\n",
    "top_n_titles = (\n",
    "                top_n.join(com.select('comic_id','comic_title')\n",
    "                          ,top_n.comic_id==com.comic_id, \"left\")\n",
    "                     .join(ac, [top_n.account_id==ac.acct_id,\n",
    "                                    top_n.comic_id==ac.cmc_id], 'left')\n",
    "                     .filter('ac.acct_id is null') \n",
    "                     .select('comic_title')\n",
    "               )\n",
    "top_n_titles.persist()\n",
    "top_n_titles.show(top_n_req)\n"
   ]
  },
  {
   "cell_type": "code",
   "execution_count": 179,
   "metadata": {},
   "outputs": [],
   "source": [
    "# Cast to pandas df and return it\n",
    "top_n_df = top_n_titles.select('*').toPandas()\n",
    "top_n_df = top_n_df.head(top_n_req)\n",
    "top_n_df.index += 1"
   ]
  },
  {
   "cell_type": "code",
   "execution_count": 180,
   "metadata": {},
   "outputs": [
    {
     "data": {
      "text/html": [
       "<div>\n",
       "<style scoped>\n",
       "    .dataframe tbody tr th:only-of-type {\n",
       "        vertical-align: middle;\n",
       "    }\n",
       "\n",
       "    .dataframe tbody tr th {\n",
       "        vertical-align: top;\n",
       "    }\n",
       "\n",
       "    .dataframe thead th {\n",
       "        text-align: right;\n",
       "    }\n",
       "</style>\n",
       "<table border=\"1\" class=\"dataframe\">\n",
       "  <thead>\n",
       "    <tr style=\"text-align: right;\">\n",
       "      <th></th>\n",
       "      <th>comic_title</th>\n",
       "    </tr>\n",
       "  </thead>\n",
       "  <tbody>\n",
       "    <tr>\n",
       "      <th>1</th>\n",
       "      <td>Bitch Planet (Image)</td>\n",
       "    </tr>\n",
       "    <tr>\n",
       "      <th>2</th>\n",
       "      <td>Black Widow (Marvel)</td>\n",
       "    </tr>\n",
       "    <tr>\n",
       "      <th>3</th>\n",
       "      <td>All New Hawkeye (Marvel)</td>\n",
       "    </tr>\n",
       "    <tr>\n",
       "      <th>4</th>\n",
       "      <td>Shipwreck (Other)</td>\n",
       "    </tr>\n",
       "    <tr>\n",
       "      <th>5</th>\n",
       "      <td>Sex Criminals (Image)</td>\n",
       "    </tr>\n",
       "    <tr>\n",
       "      <th>6</th>\n",
       "      <td>Neil Gaiman American Gods Sha (Dark Horse)</td>\n",
       "    </tr>\n",
       "    <tr>\n",
       "      <th>7</th>\n",
       "      <td>Spider-Gwen (Marvel)</td>\n",
       "    </tr>\n",
       "    <tr>\n",
       "      <th>8</th>\n",
       "      <td>Sweet Tooth (Vertigo)</td>\n",
       "    </tr>\n",
       "    <tr>\n",
       "      <th>9</th>\n",
       "      <td>Black Monday Murders (Image)</td>\n",
       "    </tr>\n",
       "    <tr>\n",
       "      <th>10</th>\n",
       "      <td>Outcast By Kirkman &amp; Azaceta (Image)</td>\n",
       "    </tr>\n",
       "  </tbody>\n",
       "</table>\n",
       "</div>"
      ],
      "text/plain": [
       "                                   comic_title\n",
       "1                         Bitch Planet (Image)\n",
       "2                         Black Widow (Marvel)\n",
       "3                     All New Hawkeye (Marvel)\n",
       "4                            Shipwreck (Other)\n",
       "5                        Sex Criminals (Image)\n",
       "6   Neil Gaiman American Gods Sha (Dark Horse)\n",
       "7                         Spider-Gwen (Marvel)\n",
       "8                        Sweet Tooth (Vertigo)\n",
       "9                 Black Monday Murders (Image)\n",
       "10        Outcast By Kirkman & Azaceta (Image)"
      ]
     },
     "execution_count": 180,
     "metadata": {},
     "output_type": "execute_result"
    }
   ],
   "source": [
    "top_n_df"
   ]
  },
  {
   "cell_type": "code",
   "execution_count": null,
   "metadata": {},
   "outputs": [],
   "source": []
  },
  {
   "cell_type": "markdown",
   "metadata": {},
   "source": [
    "Ok this seems like it could work. Let's roll it into the new function."
   ]
  },
  {
   "cell_type": "code",
   "execution_count": 181,
   "metadata": {},
   "outputs": [],
   "source": [
    "def get_top_n_new_recs(spark, model, topn=10):\n",
    "    \"\"\"\n",
    "    Given requested n and ALS model, returns top n recommended comics\n",
    "    \"\"\"\n",
    "    \n",
    "    # Multiplicative buffer\n",
    "    # Get n x topn, because we will screen out previously bought\n",
    "    buffer = 3\n",
    "    \n",
    "    # Get account number from user\n",
    "    tgt_acct_id = input()\n",
    "\n",
    "    # To 'save' the account number, will put it into a spark dataframe\n",
    "    # Create spark df manually\n",
    "    a_schema = StructType([StructField(\"account_id\", LongType())])\n",
    "\n",
    "    # Init lists\n",
    "    tgt_list = []\n",
    "    acct_list = []\n",
    "    tgt_list.append(int(tgt_acct_id))\n",
    "    acct_list.append(tgt_list)\n",
    "\n",
    "    # Create one-row spark df\n",
    "    tgt_accts = spark.createDataFrame(acct_list, schema=a_schema) \n",
    "    \n",
    "    # Get recommendations for user\n",
    "    userSubsetRecs = model.recommendForUserSubset(tgt_accts, (topn*buffer))\n",
    "    userSubsetRecs.persist()\n",
    "\n",
    "    # Flatten the recs list\n",
    "    top_n_exploded = (userSubsetRecs.withColumn('tmp',explode('recommendations'))\n",
    "            .select('account_id', col(\"tmp.comic_id\"), col(\"tmp.rating\")))\n",
    "    top_n_exploded.persist()\n",
    "\n",
    "    # Get comics titles\n",
    "    comics = spark.read.json('raw_data/comics.json')\n",
    "    comics.persist()\n",
    "    \n",
    "    # Get account-comics summary (already bought)\n",
    "    acct_comics = spark.read.json('support_data/acct_comics.json')\n",
    "    acct_comics = (\n",
    "                    acct_comics.withColumnRenamed('account_id','acct_id')\n",
    "                    .withColumnRenamed('comic_id', 'cmc_id')\n",
    "                  )\n",
    "    acct_comics.persist()\n",
    "\n",
    "    # shorten with alias\n",
    "    top_n = top_n_exploded.alias('topn')\n",
    "    com = comics.alias('com')\n",
    "    ac = acct_comics.alias('ac')\n",
    "    \n",
    "\n",
    "    # Clean up the spark df to list of titles, and only include these\n",
    "    # that are NOT on bought list\n",
    "    top_n_titles = (\n",
    "                    top_n.join(com.select('comic_id','comic_title')\n",
    "                              ,top_n.comic_id==com.comic_id, \"left\")\n",
    "                         .join(ac, [top_n.account_id==ac.acct_id,\n",
    "                                        top_n.comic_id==ac.cmc_id], 'left')\n",
    "                         .filter('ac.acct_id is null') \n",
    "                         .select('comic_title')\n",
    "                   )\n",
    "    top_n_titles.persist()\n",
    "    top_n_titles.show(top_n_req)\n",
    "\n",
    "    # Cast to pandas df and return it\n",
    "    top_n_df = top_n_titles.select('*').toPandas()\n",
    "    top_n_df = top_n_df.head(top_n)\n",
    "    top_n_df.index += 1\n",
    "    \n",
    "    return top_n_df"
   ]
  },
  {
   "cell_type": "markdown",
   "metadata": {},
   "source": [
    "Let's test it!"
   ]
  },
  {
   "cell_type": "markdown",
   "metadata": {},
   "source": [
    "**Version 1:**"
   ]
  },
  {
   "cell_type": "code",
   "execution_count": 10,
   "metadata": {},
   "outputs": [],
   "source": [
    "top_n_req = 10"
   ]
  },
  {
   "cell_type": "code",
   "execution_count": 6,
   "metadata": {},
   "outputs": [
    {
     "name": "stdout",
     "output_type": "stream",
     "text": [
      "161\n"
     ]
    },
    {
     "data": {
      "text/html": [
       "<div>\n",
       "<style scoped>\n",
       "    .dataframe tbody tr th:only-of-type {\n",
       "        vertical-align: middle;\n",
       "    }\n",
       "\n",
       "    .dataframe tbody tr th {\n",
       "        vertical-align: top;\n",
       "    }\n",
       "\n",
       "    .dataframe thead th {\n",
       "        text-align: right;\n",
       "    }\n",
       "</style>\n",
       "<table border=\"1\" class=\"dataframe\">\n",
       "  <thead>\n",
       "    <tr style=\"text-align: right;\">\n",
       "      <th></th>\n",
       "      <th>comic_title</th>\n",
       "    </tr>\n",
       "  </thead>\n",
       "  <tbody>\n",
       "    <tr>\n",
       "      <th>1</th>\n",
       "      <td>Criminal (Image)</td>\n",
       "    </tr>\n",
       "    <tr>\n",
       "      <th>2</th>\n",
       "      <td>Bitch Planet (Image)</td>\n",
       "    </tr>\n",
       "    <tr>\n",
       "      <th>3</th>\n",
       "      <td>Royal City (Image)</td>\n",
       "    </tr>\n",
       "    <tr>\n",
       "      <th>4</th>\n",
       "      <td>Black Widow (Marvel)</td>\n",
       "    </tr>\n",
       "    <tr>\n",
       "      <th>5</th>\n",
       "      <td>All New Hawkeye (Marvel)</td>\n",
       "    </tr>\n",
       "    <tr>\n",
       "      <th>6</th>\n",
       "      <td>Shipwreck (Other)</td>\n",
       "    </tr>\n",
       "    <tr>\n",
       "      <th>7</th>\n",
       "      <td>Sex Criminals (Image)</td>\n",
       "    </tr>\n",
       "    <tr>\n",
       "      <th>8</th>\n",
       "      <td>Neil Gaiman American Gods Sha (Dark Horse)</td>\n",
       "    </tr>\n",
       "    <tr>\n",
       "      <th>9</th>\n",
       "      <td>Spider-Gwen (Marvel)</td>\n",
       "    </tr>\n",
       "    <tr>\n",
       "      <th>10</th>\n",
       "      <td>Sweet Tooth (Vertigo)</td>\n",
       "    </tr>\n",
       "  </tbody>\n",
       "</table>\n",
       "</div>"
      ],
      "text/plain": [
       "                                   comic_title\n",
       "1                             Criminal (Image)\n",
       "2                         Bitch Planet (Image)\n",
       "3                           Royal City (Image)\n",
       "4                         Black Widow (Marvel)\n",
       "5                     All New Hawkeye (Marvel)\n",
       "6                            Shipwreck (Other)\n",
       "7                        Sex Criminals (Image)\n",
       "8   Neil Gaiman American Gods Sha (Dark Horse)\n",
       "9                         Spider-Gwen (Marvel)\n",
       "10                       Sweet Tooth (Vertigo)"
      ]
     },
     "execution_count": 6,
     "metadata": {},
     "output_type": "execute_result"
    }
   ],
   "source": [
    "top_n_df = cr.get_top_n_recs_for_user(spark=spark, model=comic_rec_model\n",
    "                                   , topn=top_n_req)\n",
    "top_n_df"
   ]
  },
  {
   "cell_type": "markdown",
   "metadata": {},
   "source": [
    "**Version 2:**"
   ]
  },
  {
   "cell_type": "code",
   "execution_count": 8,
   "metadata": {
    "scrolled": true
   },
   "outputs": [
    {
     "name": "stdout",
     "output_type": "stream",
     "text": [
      "161\n"
     ]
    },
    {
     "data": {
      "text/html": [
       "<div>\n",
       "<style scoped>\n",
       "    .dataframe tbody tr th:only-of-type {\n",
       "        vertical-align: middle;\n",
       "    }\n",
       "\n",
       "    .dataframe tbody tr th {\n",
       "        vertical-align: top;\n",
       "    }\n",
       "\n",
       "    .dataframe thead th {\n",
       "        text-align: right;\n",
       "    }\n",
       "</style>\n",
       "<table border=\"1\" class=\"dataframe\">\n",
       "  <thead>\n",
       "    <tr style=\"text-align: right;\">\n",
       "      <th></th>\n",
       "      <th>comic_title</th>\n",
       "    </tr>\n",
       "  </thead>\n",
       "  <tbody>\n",
       "    <tr>\n",
       "      <th>1</th>\n",
       "      <td>Bitch Planet (Image)</td>\n",
       "    </tr>\n",
       "    <tr>\n",
       "      <th>2</th>\n",
       "      <td>Black Widow (Marvel)</td>\n",
       "    </tr>\n",
       "    <tr>\n",
       "      <th>3</th>\n",
       "      <td>All New Hawkeye (Marvel)</td>\n",
       "    </tr>\n",
       "    <tr>\n",
       "      <th>4</th>\n",
       "      <td>Shipwreck (Other)</td>\n",
       "    </tr>\n",
       "    <tr>\n",
       "      <th>5</th>\n",
       "      <td>Sex Criminals (Image)</td>\n",
       "    </tr>\n",
       "    <tr>\n",
       "      <th>6</th>\n",
       "      <td>Neil Gaiman American Gods Sha (Dark Horse)</td>\n",
       "    </tr>\n",
       "    <tr>\n",
       "      <th>7</th>\n",
       "      <td>Spider-Gwen (Marvel)</td>\n",
       "    </tr>\n",
       "    <tr>\n",
       "      <th>8</th>\n",
       "      <td>Sweet Tooth (Vertigo)</td>\n",
       "    </tr>\n",
       "    <tr>\n",
       "      <th>9</th>\n",
       "      <td>Black Monday Murders (Image)</td>\n",
       "    </tr>\n",
       "    <tr>\n",
       "      <th>10</th>\n",
       "      <td>Outcast By Kirkman &amp; Azaceta (Image)</td>\n",
       "    </tr>\n",
       "  </tbody>\n",
       "</table>\n",
       "</div>"
      ],
      "text/plain": [
       "                                   comic_title\n",
       "1                         Bitch Planet (Image)\n",
       "2                         Black Widow (Marvel)\n",
       "3                     All New Hawkeye (Marvel)\n",
       "4                            Shipwreck (Other)\n",
       "5                        Sex Criminals (Image)\n",
       "6   Neil Gaiman American Gods Sha (Dark Horse)\n",
       "7                         Spider-Gwen (Marvel)\n",
       "8                        Sweet Tooth (Vertigo)\n",
       "9                 Black Monday Murders (Image)\n",
       "10        Outcast By Kirkman & Azaceta (Image)"
      ]
     },
     "execution_count": 8,
     "metadata": {},
     "output_type": "execute_result"
    }
   ],
   "source": [
    "top_n_df = cr.get_top_n_new_recs(spark=spark, model=comic_rec_model\n",
    "                                 , topn=top_n_req)\n",
    "top_n_df"
   ]
  },
  {
   "cell_type": "markdown",
   "metadata": {},
   "source": [
    "# YES"
   ]
  },
  {
   "cell_type": "markdown",
   "metadata": {},
   "source": [
    "How about someone new?"
   ]
  },
  {
   "cell_type": "code",
   "execution_count": 11,
   "metadata": {
    "scrolled": true
   },
   "outputs": [
    {
     "name": "stdout",
     "output_type": "stream",
     "text": [
      "9999\n"
     ]
    },
    {
     "data": {
      "text/html": [
       "<div>\n",
       "<style scoped>\n",
       "    .dataframe tbody tr th:only-of-type {\n",
       "        vertical-align: middle;\n",
       "    }\n",
       "\n",
       "    .dataframe tbody tr th {\n",
       "        vertical-align: top;\n",
       "    }\n",
       "\n",
       "    .dataframe thead th {\n",
       "        text-align: right;\n",
       "    }\n",
       "</style>\n",
       "<table border=\"1\" class=\"dataframe\">\n",
       "  <thead>\n",
       "    <tr style=\"text-align: right;\">\n",
       "      <th></th>\n",
       "      <th>comic_title</th>\n",
       "    </tr>\n",
       "  </thead>\n",
       "  <tbody>\n",
       "  </tbody>\n",
       "</table>\n",
       "</div>"
      ],
      "text/plain": [
       "Empty DataFrame\n",
       "Columns: [comic_title]\n",
       "Index: []"
      ]
     },
     "execution_count": 11,
     "metadata": {},
     "output_type": "execute_result"
    }
   ],
   "source": [
    "newbie_df = cr.get_top_n_new_recs(spark=spark, model=comic_rec_model\n",
    "                                 , topn=top_n_req)\n",
    "newbie_df"
   ]
  },
  {
   "cell_type": "markdown",
   "metadata": {},
   "source": [
    "Nope. But that's what we expected."
   ]
  }
 ],
 "metadata": {
  "kernelspec": {
   "display_name": "Python 3",
   "language": "python",
   "name": "python3"
  },
  "language_info": {
   "codemirror_mode": {
    "name": "ipython",
    "version": 3
   },
   "file_extension": ".py",
   "mimetype": "text/x-python",
   "name": "python",
   "nbconvert_exporter": "python",
   "pygments_lexer": "ipython3",
   "version": "3.6.6"
  }
 },
 "nbformat": 4,
 "nbformat_minor": 2
}
