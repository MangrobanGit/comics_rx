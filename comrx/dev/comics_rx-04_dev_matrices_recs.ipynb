{
 "cells": [
  {
   "cell_type": "markdown",
   "metadata": {},
   "source": [
    "# Comics Rx\n",
    "## [A comic book recommendation system](https://github.com/MangrobanGit/comics_rx)\n",
    "<img src=\"https://images.unsplash.com/photo-1514329926535-7f6dbfbfb114?ixlib=rb-1.2.1&ixid=eyJhcHBfaWQiOjEyMDd9&auto=format&fit=crop&w=2850&q=80\" width=\"400\" align='left'>"
   ]
  },
  {
   "cell_type": "markdown",
   "metadata": {},
   "source": [
    "# Goal: Develop Matrix Functions for App"
   ]
  },
  {
   "cell_type": "markdown",
   "metadata": {},
   "source": [
    "### Calculate Implicit Ratings Matrix\n",
    "\n",
    "as inspired by John Naujoks, suggested by Miles Erickson"
   ]
  },
  {
   "cell_type": "markdown",
   "metadata": {},
   "source": [
    "---"
   ]
  },
  {
   "cell_type": "markdown",
   "metadata": {},
   "source": [
    "# Libraries"
   ]
  },
  {
   "cell_type": "code",
   "execution_count": 32,
   "metadata": {},
   "outputs": [
    {
     "name": "stdout",
     "output_type": "stream",
     "text": [
      "The autoreload extension is already loaded. To reload it, use:\n",
      "  %reload_ext autoreload\n"
     ]
    }
   ],
   "source": [
    "%matplotlib inline\n",
    "%load_ext autoreload\n",
    "%autoreload 2\n",
    "# %autoreload 1 #would be where you need to specify the files\n",
    "# %aimport comic_recs\n",
    "\n",
    "import pandas as pd # dataframes\n",
    "import os\n",
    "import pickle\n",
    "\n",
    "# Data storage\n",
    "from sqlalchemy import create_engine # SQL helper\n",
    "#import psycopg2 as psql #PostgreSQL DBs\n",
    "\n",
    "# import necessary libraries\n",
    "import pyspark\n",
    "from pyspark.sql import SparkSession\n",
    "from pyspark.ml.evaluation import RegressionEvaluator\n",
    "# from pyspark.sql.types import (StructType, StructField, IntegerType\n",
    "#                                ,FloatType, LongType, StringType)\n",
    "from pyspark.sql.types import *\n",
    "\n",
    "import pyspark.sql.functions as F\n",
    "from pyspark.sql.functions import col, explode, lit, isnan, when, count, lower\n",
    "from pyspark.ml.recommendation import ALS, ALSModel\n",
    "from pyspark.ml.evaluation import RegressionEvaluator\n",
    "from pyspark.ml.tuning import CrossValidator, ParamGridBuilder, TrainValidationSplit\n",
    "from pyspark.ml.evaluation import BinaryClassificationEvaluator\n",
    "from pyspark.sql import DataFrame\n",
    "\n",
    "\n",
    "import time\n",
    "import itertools\n",
    "from functools import reduce\n",
    "import numpy as np"
   ]
  },
  {
   "cell_type": "code",
   "execution_count": 33,
   "metadata": {},
   "outputs": [],
   "source": [
    "import sys"
   ]
  },
  {
   "cell_type": "code",
   "execution_count": 34,
   "metadata": {},
   "outputs": [],
   "source": [
    "sys.path.append('..')"
   ]
  },
  {
   "cell_type": "code",
   "execution_count": 35,
   "metadata": {},
   "outputs": [],
   "source": [
    "# Custom\n",
    "import data_fcns as dfc\n",
    "import keys  # Custom keys lib\n",
    "import comic_recs as cr"
   ]
  },
  {
   "cell_type": "code",
   "execution_count": 36,
   "metadata": {},
   "outputs": [],
   "source": [
    "spark = pyspark.sql.SparkSession.builder.master(\"local[*]\").getOrCreate()"
   ]
  },
  {
   "cell_type": "code",
   "execution_count": 37,
   "metadata": {},
   "outputs": [],
   "source": [
    "# spark config\n",
    "spark = SparkSession \\\n",
    "    .builder \\\n",
    "    .appName(\"movie recommendation\") \\\n",
    "    .config(\"spark.driver.maxResultSize\", \"1g\") \\\n",
    "    .config(\"spark.driver.memory\", \"1g\") \\\n",
    "    .config(\"spark.executor.memory\", \"4g\") \\\n",
    "    .config(\"spark.master\", \"local[*]\") \\\n",
    "    .getOrCreate()\n",
    "# get spark context\n",
    "#sc = spark.sparkContext"
   ]
  },
  {
   "cell_type": "markdown",
   "metadata": {},
   "source": [
    "# New Users"
   ]
  },
  {
   "cell_type": "markdown",
   "metadata": {},
   "source": [
    "Let's develop an input process that uses titles, rather than pulling the specific person's info from the modeling data."
   ]
  },
  {
   "cell_type": "code",
   "execution_count": 38,
   "metadata": {},
   "outputs": [
    {
     "data": {
      "text/plain": [
       "DataFrame[comic_id: bigint, comic_title: string, img_url: string]"
      ]
     },
     "execution_count": 38,
     "metadata": {},
     "output_type": "execute_result"
    }
   ],
   "source": [
    "comics_df = spark.read.json('support_data/comics.json')\n",
    "comics_df.persist()"
   ]
  },
  {
   "cell_type": "markdown",
   "metadata": {},
   "source": [
    "1. Get the item factors "
   ]
  },
  {
   "cell_type": "code",
   "execution_count": 39,
   "metadata": {
    "scrolled": true
   },
   "outputs": [],
   "source": [
    "# item_factors = als_model.itemFactors.toPandas()\n",
    "\n",
    "item_factors = pd.read_pickle('support_data/item_factors.pkl')"
   ]
  },
  {
   "cell_type": "code",
   "execution_count": 40,
   "metadata": {},
   "outputs": [
    {
     "data": {
      "text/html": [
       "<div>\n",
       "<style scoped>\n",
       "    .dataframe tbody tr th:only-of-type {\n",
       "        vertical-align: middle;\n",
       "    }\n",
       "\n",
       "    .dataframe tbody tr th {\n",
       "        vertical-align: top;\n",
       "    }\n",
       "\n",
       "    .dataframe thead th {\n",
       "        text-align: right;\n",
       "    }\n",
       "</style>\n",
       "<table border=\"1\" class=\"dataframe\">\n",
       "  <thead>\n",
       "    <tr style=\"text-align: right;\">\n",
       "      <th></th>\n",
       "      <th>id</th>\n",
       "      <th>features</th>\n",
       "    </tr>\n",
       "  </thead>\n",
       "  <tbody>\n",
       "    <tr>\n",
       "      <th>0</th>\n",
       "      <td>60</td>\n",
       "      <td>[-0.12471740692853928, -0.13675494492053986, -...</td>\n",
       "    </tr>\n",
       "    <tr>\n",
       "      <th>1</th>\n",
       "      <td>80</td>\n",
       "      <td>[0.10105234384536743, 0.3860373795032501, -0.7...</td>\n",
       "    </tr>\n",
       "    <tr>\n",
       "      <th>2</th>\n",
       "      <td>110</td>\n",
       "      <td>[-0.17939595878124237, -0.096303790807724, -1....</td>\n",
       "    </tr>\n",
       "    <tr>\n",
       "      <th>3</th>\n",
       "      <td>140</td>\n",
       "      <td>[0.1732894778251648, -0.3066675066947937, -0.4...</td>\n",
       "    </tr>\n",
       "    <tr>\n",
       "      <th>4</th>\n",
       "      <td>160</td>\n",
       "      <td>[-0.3997923731803894, -0.17846563458442688, -0...</td>\n",
       "    </tr>\n",
       "  </tbody>\n",
       "</table>\n",
       "</div>"
      ],
      "text/plain": [
       "    id                                           features\n",
       "0   60  [-0.12471740692853928, -0.13675494492053986, -...\n",
       "1   80  [0.10105234384536743, 0.3860373795032501, -0.7...\n",
       "2  110  [-0.17939595878124237, -0.096303790807724, -1....\n",
       "3  140  [0.1732894778251648, -0.3066675066947937, -0.4...\n",
       "4  160  [-0.3997923731803894, -0.17846563458442688, -0..."
      ]
     },
     "execution_count": 40,
     "metadata": {},
     "output_type": "execute_result"
    }
   ],
   "source": [
    "item_factors.head()"
   ]
  },
  {
   "cell_type": "code",
   "execution_count": 41,
   "metadata": {},
   "outputs": [],
   "source": [
    "item_factors.columns = ['item_id', 'features']"
   ]
  },
  {
   "cell_type": "code",
   "execution_count": 42,
   "metadata": {
    "scrolled": true
   },
   "outputs": [
    {
     "name": "stdout",
     "output_type": "stream",
     "text": [
      "<class 'pandas.core.frame.DataFrame'>\n",
      "RangeIndex: 1515 entries, 0 to 1514\n",
      "Data columns (total 2 columns):\n",
      "item_id     1515 non-null int32\n",
      "features    1515 non-null object\n",
      "dtypes: int32(1), object(1)\n",
      "memory usage: 17.8+ KB\n"
     ]
    }
   ],
   "source": [
    "item_factors.info()"
   ]
  },
  {
   "cell_type": "code",
   "execution_count": 43,
   "metadata": {
    "scrolled": true
   },
   "outputs": [
    {
     "data": {
      "text/plain": [
       "[-0.12471740692853928,\n",
       " -0.13675494492053986,\n",
       " -1.0376602411270142,\n",
       " -0.11408093571662903,\n",
       " -0.1141376793384552]"
      ]
     },
     "execution_count": 43,
     "metadata": {},
     "output_type": "execute_result"
    }
   ],
   "source": [
    "item_factors.features[0]"
   ]
  },
  {
   "cell_type": "markdown",
   "metadata": {},
   "source": [
    "### Create Official item factors matrix or dataframe"
   ]
  },
  {
   "cell_type": "code",
   "execution_count": 44,
   "metadata": {},
   "outputs": [],
   "source": [
    "item_factors_df = pd.read_pickle('support_data/item_factors.pkl')"
   ]
  },
  {
   "cell_type": "code",
   "execution_count": 45,
   "metadata": {},
   "outputs": [
    {
     "data": {
      "text/html": [
       "<div>\n",
       "<style scoped>\n",
       "    .dataframe tbody tr th:only-of-type {\n",
       "        vertical-align: middle;\n",
       "    }\n",
       "\n",
       "    .dataframe tbody tr th {\n",
       "        vertical-align: top;\n",
       "    }\n",
       "\n",
       "    .dataframe thead th {\n",
       "        text-align: right;\n",
       "    }\n",
       "</style>\n",
       "<table border=\"1\" class=\"dataframe\">\n",
       "  <thead>\n",
       "    <tr style=\"text-align: right;\">\n",
       "      <th></th>\n",
       "      <th>id</th>\n",
       "      <th>features</th>\n",
       "    </tr>\n",
       "  </thead>\n",
       "  <tbody>\n",
       "    <tr>\n",
       "      <th>0</th>\n",
       "      <td>60</td>\n",
       "      <td>[-0.12471740692853928, -0.13675494492053986, -...</td>\n",
       "    </tr>\n",
       "    <tr>\n",
       "      <th>1</th>\n",
       "      <td>80</td>\n",
       "      <td>[0.10105234384536743, 0.3860373795032501, -0.7...</td>\n",
       "    </tr>\n",
       "    <tr>\n",
       "      <th>2</th>\n",
       "      <td>110</td>\n",
       "      <td>[-0.17939595878124237, -0.096303790807724, -1....</td>\n",
       "    </tr>\n",
       "    <tr>\n",
       "      <th>3</th>\n",
       "      <td>140</td>\n",
       "      <td>[0.1732894778251648, -0.3066675066947937, -0.4...</td>\n",
       "    </tr>\n",
       "    <tr>\n",
       "      <th>4</th>\n",
       "      <td>160</td>\n",
       "      <td>[-0.3997923731803894, -0.17846563458442688, -0...</td>\n",
       "    </tr>\n",
       "  </tbody>\n",
       "</table>\n",
       "</div>"
      ],
      "text/plain": [
       "    id                                           features\n",
       "0   60  [-0.12471740692853928, -0.13675494492053986, -...\n",
       "1   80  [0.10105234384536743, 0.3860373795032501, -0.7...\n",
       "2  110  [-0.17939595878124237, -0.096303790807724, -1....\n",
       "3  140  [0.1732894778251648, -0.3066675066947937, -0.4...\n",
       "4  160  [-0.3997923731803894, -0.17846563458442688, -0..."
      ]
     },
     "execution_count": 45,
     "metadata": {},
     "output_type": "execute_result"
    }
   ],
   "source": [
    "item_factors_df.head()"
   ]
  },
  {
   "cell_type": "code",
   "execution_count": 46,
   "metadata": {},
   "outputs": [],
   "source": [
    "item_factors_df.columns = ['comic_id', 'features']"
   ]
  },
  {
   "cell_type": "code",
   "execution_count": 47,
   "metadata": {},
   "outputs": [
    {
     "name": "stdout",
     "output_type": "stream",
     "text": [
      "+--------+--------------------+--------------------+\n",
      "|comic_id|         comic_title|             img_url|\n",
      "+--------+--------------------+--------------------+\n",
      "|      17|1 For $1 Axe Cop ...|https://comrx.s3-...|\n",
      "|      20|1 For $1 Conan th...|https://comrx.s3-...|\n",
      "|      22|1 For $1 Mass Eff...|https://comrx.s3-...|\n",
      "|      24|1 For $1 Star War...|https://comrx.s3-...|\n",
      "|      27|1 For $1 Usagi Yo...|https://comrx.s3-...|\n",
      "|      18|1 For 1 Baltimore...|https://comrx.s3-...|\n",
      "|       2|100 Bullets Broth...|https://comrx.s3-...|\n",
      "|       4|100 Penny Press S...|https://comrx.s3-...|\n",
      "|       6|100 Penny Press T...|https://comrx.s3-...|\n",
      "|       8|12 Reasons To Die...|https://comrx.s3-...|\n",
      "|       9|    13 Coins (Other)|https://comrx.s3-...|\n",
      "|      11|1602 Witch Hunter...|https://comrx.s3-...|\n",
      "|      29|2021 Lost Childre...|https://comrx.s3-...|\n",
      "|      31|23 Skidoo One Sho...|https://comrx.s3-...|\n",
      "|      36|3 Floyds Alpha Ki...|https://comrx.s3-...|\n",
      "|      33|30 Days of Night ...|https://comrx.s3-...|\n",
      "|      34|32 Stories Comple...|https://comrx.s3-...|\n",
      "|      43|4001 A.d. X-O Man...|https://comrx.s3-...|\n",
      "|      40|     4001 Ad (Other)|https://comrx.s3-...|\n",
      "|      41|4001 Ad Shadowman...|https://comrx.s3-...|\n",
      "+--------+--------------------+--------------------+\n",
      "only showing top 20 rows\n",
      "\n"
     ]
    }
   ],
   "source": [
    "comics_df.show()"
   ]
  },
  {
   "cell_type": "markdown",
   "metadata": {},
   "source": [
    "#### Get comics info"
   ]
  },
  {
   "cell_type": "code",
   "execution_count": 48,
   "metadata": {},
   "outputs": [],
   "source": [
    "comics_pdf = comics_df.toPandas()"
   ]
  },
  {
   "cell_type": "code",
   "execution_count": 49,
   "metadata": {},
   "outputs": [
    {
     "data": {
      "text/html": [
       "<div>\n",
       "<style scoped>\n",
       "    .dataframe tbody tr th:only-of-type {\n",
       "        vertical-align: middle;\n",
       "    }\n",
       "\n",
       "    .dataframe tbody tr th {\n",
       "        vertical-align: top;\n",
       "    }\n",
       "\n",
       "    .dataframe thead th {\n",
       "        text-align: right;\n",
       "    }\n",
       "</style>\n",
       "<table border=\"1\" class=\"dataframe\">\n",
       "  <thead>\n",
       "    <tr style=\"text-align: right;\">\n",
       "      <th></th>\n",
       "      <th>comic_id</th>\n",
       "      <th>comic_title</th>\n",
       "      <th>img_url</th>\n",
       "    </tr>\n",
       "  </thead>\n",
       "  <tbody>\n",
       "    <tr>\n",
       "      <th>0</th>\n",
       "      <td>17</td>\n",
       "      <td>1 For $1 Axe Cop Bad Guy Eart (Dark Horse)</td>\n",
       "      <td>https://comrx.s3-us-west-2.amazonaws.com/cover...</td>\n",
       "    </tr>\n",
       "    <tr>\n",
       "      <th>1</th>\n",
       "      <td>20</td>\n",
       "      <td>1 For $1 Conan the Barbarian (Dark Horse)</td>\n",
       "      <td>https://comrx.s3-us-west-2.amazonaws.com/cover...</td>\n",
       "    </tr>\n",
       "    <tr>\n",
       "      <th>2</th>\n",
       "      <td>22</td>\n",
       "      <td>1 For $1 Mass Effect Foundati (Dark Horse)</td>\n",
       "      <td>https://comrx.s3-us-west-2.amazonaws.com/cover...</td>\n",
       "    </tr>\n",
       "    <tr>\n",
       "      <th>3</th>\n",
       "      <td>24</td>\n",
       "      <td>1 For $1 Star Wars Legacy (Dark Horse)</td>\n",
       "      <td>https://comrx.s3-us-west-2.amazonaws.com/cover...</td>\n",
       "    </tr>\n",
       "    <tr>\n",
       "      <th>4</th>\n",
       "      <td>27</td>\n",
       "      <td>1 For $1 Usagi Yojimb (Dark Horse)</td>\n",
       "      <td>https://comrx.s3-us-west-2.amazonaws.com/cover...</td>\n",
       "    </tr>\n",
       "  </tbody>\n",
       "</table>\n",
       "</div>"
      ],
      "text/plain": [
       "   comic_id                                 comic_title  \\\n",
       "0        17  1 For $1 Axe Cop Bad Guy Eart (Dark Horse)   \n",
       "1        20   1 For $1 Conan the Barbarian (Dark Horse)   \n",
       "2        22  1 For $1 Mass Effect Foundati (Dark Horse)   \n",
       "3        24      1 For $1 Star Wars Legacy (Dark Horse)   \n",
       "4        27          1 For $1 Usagi Yojimb (Dark Horse)   \n",
       "\n",
       "                                             img_url  \n",
       "0  https://comrx.s3-us-west-2.amazonaws.com/cover...  \n",
       "1  https://comrx.s3-us-west-2.amazonaws.com/cover...  \n",
       "2  https://comrx.s3-us-west-2.amazonaws.com/cover...  \n",
       "3  https://comrx.s3-us-west-2.amazonaws.com/cover...  \n",
       "4  https://comrx.s3-us-west-2.amazonaws.com/cover...  "
      ]
     },
     "execution_count": 49,
     "metadata": {},
     "output_type": "execute_result"
    }
   ],
   "source": [
    "comics_pdf.head()"
   ]
  },
  {
   "cell_type": "code",
   "execution_count": 50,
   "metadata": {},
   "outputs": [
    {
     "data": {
      "text/plain": [
       "(1515, 2)"
      ]
     },
     "execution_count": 50,
     "metadata": {},
     "output_type": "execute_result"
    }
   ],
   "source": [
    "item_factors_df.shape"
   ]
  },
  {
   "cell_type": "code",
   "execution_count": 51,
   "metadata": {},
   "outputs": [],
   "source": [
    "combo = item_factors_df.merge(comics_pdf, left_on='comic_id', right_on='comic_id', how='inner', )"
   ]
  },
  {
   "cell_type": "code",
   "execution_count": 52,
   "metadata": {
    "scrolled": true
   },
   "outputs": [
    {
     "data": {
      "text/html": [
       "<div>\n",
       "<style scoped>\n",
       "    .dataframe tbody tr th:only-of-type {\n",
       "        vertical-align: middle;\n",
       "    }\n",
       "\n",
       "    .dataframe tbody tr th {\n",
       "        vertical-align: top;\n",
       "    }\n",
       "\n",
       "    .dataframe thead th {\n",
       "        text-align: right;\n",
       "    }\n",
       "</style>\n",
       "<table border=\"1\" class=\"dataframe\">\n",
       "  <thead>\n",
       "    <tr style=\"text-align: right;\">\n",
       "      <th></th>\n",
       "      <th>comic_id</th>\n",
       "      <th>features</th>\n",
       "      <th>comic_title</th>\n",
       "      <th>img_url</th>\n",
       "    </tr>\n",
       "  </thead>\n",
       "  <tbody>\n",
       "    <tr>\n",
       "      <th>0</th>\n",
       "      <td>60</td>\n",
       "      <td>[-0.12471740692853928, -0.13675494492053986, -...</td>\n",
       "      <td>8house (Image)</td>\n",
       "      <td>https://comrx.s3-us-west-2.amazonaws.com/cover...</td>\n",
       "    </tr>\n",
       "    <tr>\n",
       "      <th>1</th>\n",
       "      <td>80</td>\n",
       "      <td>[0.10105234384536743, 0.3860373795032501, -0.7...</td>\n",
       "      <td>Action Comics Annual (DC)</td>\n",
       "      <td>https://comrx.s3-us-west-2.amazonaws.com/cover...</td>\n",
       "    </tr>\n",
       "    <tr>\n",
       "      <th>2</th>\n",
       "      <td>110</td>\n",
       "      <td>[-0.17939595878124237, -0.096303790807724, -1....</td>\n",
       "      <td>Adventure Time (Boom)</td>\n",
       "      <td>https://comrx.s3-us-west-2.amazonaws.com/cover...</td>\n",
       "    </tr>\n",
       "    <tr>\n",
       "      <th>3</th>\n",
       "      <td>140</td>\n",
       "      <td>[0.1732894778251648, -0.3066675066947937, -0.4...</td>\n",
       "      <td>Age of X-Man Amazing Nightcra (Marvel)</td>\n",
       "      <td>https://comrx.s3-us-west-2.amazonaws.com/cover...</td>\n",
       "    </tr>\n",
       "    <tr>\n",
       "      <th>4</th>\n",
       "      <td>160</td>\n",
       "      <td>[-0.3997923731803894, -0.17846563458442688, -0...</td>\n",
       "      <td>Aliens Defiance (Dark Horse)</td>\n",
       "      <td>https://comrx.s3-us-west-2.amazonaws.com/cover...</td>\n",
       "    </tr>\n",
       "  </tbody>\n",
       "</table>\n",
       "</div>"
      ],
      "text/plain": [
       "   comic_id                                           features  \\\n",
       "0        60  [-0.12471740692853928, -0.13675494492053986, -...   \n",
       "1        80  [0.10105234384536743, 0.3860373795032501, -0.7...   \n",
       "2       110  [-0.17939595878124237, -0.096303790807724, -1....   \n",
       "3       140  [0.1732894778251648, -0.3066675066947937, -0.4...   \n",
       "4       160  [-0.3997923731803894, -0.17846563458442688, -0...   \n",
       "\n",
       "                              comic_title  \\\n",
       "0                          8house (Image)   \n",
       "1               Action Comics Annual (DC)   \n",
       "2                   Adventure Time (Boom)   \n",
       "3  Age of X-Man Amazing Nightcra (Marvel)   \n",
       "4            Aliens Defiance (Dark Horse)   \n",
       "\n",
       "                                             img_url  \n",
       "0  https://comrx.s3-us-west-2.amazonaws.com/cover...  \n",
       "1  https://comrx.s3-us-west-2.amazonaws.com/cover...  \n",
       "2  https://comrx.s3-us-west-2.amazonaws.com/cover...  \n",
       "3  https://comrx.s3-us-west-2.amazonaws.com/cover...  \n",
       "4  https://comrx.s3-us-west-2.amazonaws.com/cover...  "
      ]
     },
     "execution_count": 52,
     "metadata": {},
     "output_type": "execute_result"
    }
   ],
   "source": [
    "combo.head()"
   ]
  },
  {
   "cell_type": "markdown",
   "metadata": {},
   "source": [
    "In order to make slicing easier down the road, set index to comic_id"
   ]
  },
  {
   "cell_type": "code",
   "execution_count": 53,
   "metadata": {},
   "outputs": [],
   "source": [
    "coms = combo.copy()"
   ]
  },
  {
   "cell_type": "code",
   "execution_count": 54,
   "metadata": {},
   "outputs": [],
   "source": [
    "coms.set_index(['comic_id'], inplace=True)"
   ]
  },
  {
   "cell_type": "code",
   "execution_count": 55,
   "metadata": {
    "scrolled": true
   },
   "outputs": [
    {
     "data": {
      "text/html": [
       "<div>\n",
       "<style scoped>\n",
       "    .dataframe tbody tr th:only-of-type {\n",
       "        vertical-align: middle;\n",
       "    }\n",
       "\n",
       "    .dataframe tbody tr th {\n",
       "        vertical-align: top;\n",
       "    }\n",
       "\n",
       "    .dataframe thead th {\n",
       "        text-align: right;\n",
       "    }\n",
       "</style>\n",
       "<table border=\"1\" class=\"dataframe\">\n",
       "  <thead>\n",
       "    <tr style=\"text-align: right;\">\n",
       "      <th></th>\n",
       "      <th>features</th>\n",
       "      <th>comic_title</th>\n",
       "      <th>img_url</th>\n",
       "    </tr>\n",
       "    <tr>\n",
       "      <th>comic_id</th>\n",
       "      <th></th>\n",
       "      <th></th>\n",
       "      <th></th>\n",
       "    </tr>\n",
       "  </thead>\n",
       "  <tbody>\n",
       "    <tr>\n",
       "      <th>60</th>\n",
       "      <td>[-0.12471740692853928, -0.13675494492053986, -...</td>\n",
       "      <td>8house (Image)</td>\n",
       "      <td>https://comrx.s3-us-west-2.amazonaws.com/cover...</td>\n",
       "    </tr>\n",
       "    <tr>\n",
       "      <th>80</th>\n",
       "      <td>[0.10105234384536743, 0.3860373795032501, -0.7...</td>\n",
       "      <td>Action Comics Annual (DC)</td>\n",
       "      <td>https://comrx.s3-us-west-2.amazonaws.com/cover...</td>\n",
       "    </tr>\n",
       "    <tr>\n",
       "      <th>110</th>\n",
       "      <td>[-0.17939595878124237, -0.096303790807724, -1....</td>\n",
       "      <td>Adventure Time (Boom)</td>\n",
       "      <td>https://comrx.s3-us-west-2.amazonaws.com/cover...</td>\n",
       "    </tr>\n",
       "    <tr>\n",
       "      <th>140</th>\n",
       "      <td>[0.1732894778251648, -0.3066675066947937, -0.4...</td>\n",
       "      <td>Age of X-Man Amazing Nightcra (Marvel)</td>\n",
       "      <td>https://comrx.s3-us-west-2.amazonaws.com/cover...</td>\n",
       "    </tr>\n",
       "    <tr>\n",
       "      <th>160</th>\n",
       "      <td>[-0.3997923731803894, -0.17846563458442688, -0...</td>\n",
       "      <td>Aliens Defiance (Dark Horse)</td>\n",
       "      <td>https://comrx.s3-us-west-2.amazonaws.com/cover...</td>\n",
       "    </tr>\n",
       "  </tbody>\n",
       "</table>\n",
       "</div>"
      ],
      "text/plain": [
       "                                                   features  \\\n",
       "comic_id                                                      \n",
       "60        [-0.12471740692853928, -0.13675494492053986, -...   \n",
       "80        [0.10105234384536743, 0.3860373795032501, -0.7...   \n",
       "110       [-0.17939595878124237, -0.096303790807724, -1....   \n",
       "140       [0.1732894778251648, -0.3066675066947937, -0.4...   \n",
       "160       [-0.3997923731803894, -0.17846563458442688, -0...   \n",
       "\n",
       "                                     comic_title  \\\n",
       "comic_id                                           \n",
       "60                                8house (Image)   \n",
       "80                     Action Comics Annual (DC)   \n",
       "110                        Adventure Time (Boom)   \n",
       "140       Age of X-Man Amazing Nightcra (Marvel)   \n",
       "160                 Aliens Defiance (Dark Horse)   \n",
       "\n",
       "                                                    img_url  \n",
       "comic_id                                                     \n",
       "60        https://comrx.s3-us-west-2.amazonaws.com/cover...  \n",
       "80        https://comrx.s3-us-west-2.amazonaws.com/cover...  \n",
       "110       https://comrx.s3-us-west-2.amazonaws.com/cover...  \n",
       "140       https://comrx.s3-us-west-2.amazonaws.com/cover...  \n",
       "160       https://comrx.s3-us-west-2.amazonaws.com/cover...  "
      ]
     },
     "execution_count": 55,
     "metadata": {},
     "output_type": "execute_result"
    }
   ],
   "source": [
    "coms.head()"
   ]
  },
  {
   "cell_type": "code",
   "execution_count": 56,
   "metadata": {},
   "outputs": [
    {
     "data": {
      "text/plain": [
       "features       [-0.12471740692853928, -0.13675494492053986, -...\n",
       "comic_title                                       8house (Image)\n",
       "img_url        https://comrx.s3-us-west-2.amazonaws.com/cover...\n",
       "Name: 60, dtype: object"
      ]
     },
     "execution_count": 56,
     "metadata": {},
     "output_type": "execute_result"
    }
   ],
   "source": [
    "coms.loc[60]"
   ]
  },
  {
   "cell_type": "code",
   "execution_count": 57,
   "metadata": {},
   "outputs": [
    {
     "data": {
      "text/html": [
       "<div>\n",
       "<style scoped>\n",
       "    .dataframe tbody tr th:only-of-type {\n",
       "        vertical-align: middle;\n",
       "    }\n",
       "\n",
       "    .dataframe tbody tr th {\n",
       "        vertical-align: top;\n",
       "    }\n",
       "\n",
       "    .dataframe thead th {\n",
       "        text-align: right;\n",
       "    }\n",
       "</style>\n",
       "<table border=\"1\" class=\"dataframe\">\n",
       "  <thead>\n",
       "    <tr style=\"text-align: right;\">\n",
       "      <th></th>\n",
       "      <th>comic_id</th>\n",
       "      <th>comic_title</th>\n",
       "      <th>img_url</th>\n",
       "    </tr>\n",
       "  </thead>\n",
       "  <tbody>\n",
       "    <tr>\n",
       "      <th>1</th>\n",
       "      <td>20</td>\n",
       "      <td>1 For $1 Conan the Barbarian (Dark Horse)</td>\n",
       "      <td>https://comrx.s3-us-west-2.amazonaws.com/cover...</td>\n",
       "    </tr>\n",
       "  </tbody>\n",
       "</table>\n",
       "</div>"
      ],
      "text/plain": [
       "   comic_id                                comic_title  \\\n",
       "1        20  1 For $1 Conan the Barbarian (Dark Horse)   \n",
       "\n",
       "                                             img_url  \n",
       "1  https://comrx.s3-us-west-2.amazonaws.com/cover...  "
      ]
     },
     "execution_count": 57,
     "metadata": {},
     "output_type": "execute_result"
    }
   ],
   "source": [
    "comics_pdf.loc[comics_pdf['comic_id']==20]"
   ]
  },
  {
   "cell_type": "code",
   "execution_count": 58,
   "metadata": {},
   "outputs": [
    {
     "data": {
      "text/plain": [
       "(1515, 4)"
      ]
     },
     "execution_count": 58,
     "metadata": {},
     "output_type": "execute_result"
    }
   ],
   "source": [
    "combo.shape"
   ]
  },
  {
   "cell_type": "code",
   "execution_count": 59,
   "metadata": {},
   "outputs": [
    {
     "data": {
      "text/plain": [
       "(1515, 3)"
      ]
     },
     "execution_count": 59,
     "metadata": {},
     "output_type": "execute_result"
    }
   ],
   "source": [
    "coms.shape"
   ]
  },
  {
   "cell_type": "code",
   "execution_count": 60,
   "metadata": {},
   "outputs": [
    {
     "data": {
      "text/html": [
       "<div>\n",
       "<style scoped>\n",
       "    .dataframe tbody tr th:only-of-type {\n",
       "        vertical-align: middle;\n",
       "    }\n",
       "\n",
       "    .dataframe tbody tr th {\n",
       "        vertical-align: top;\n",
       "    }\n",
       "\n",
       "    .dataframe thead th {\n",
       "        text-align: right;\n",
       "    }\n",
       "</style>\n",
       "<table border=\"1\" class=\"dataframe\">\n",
       "  <thead>\n",
       "    <tr style=\"text-align: right;\">\n",
       "      <th></th>\n",
       "      <th>comic_id</th>\n",
       "      <th>features</th>\n",
       "      <th>comic_title</th>\n",
       "      <th>img_url</th>\n",
       "    </tr>\n",
       "  </thead>\n",
       "  <tbody>\n",
       "    <tr>\n",
       "      <th>0</th>\n",
       "      <td>60</td>\n",
       "      <td>[-0.12471740692853928, -0.13675494492053986, -...</td>\n",
       "      <td>8house (Image)</td>\n",
       "      <td>https://comrx.s3-us-west-2.amazonaws.com/cover...</td>\n",
       "    </tr>\n",
       "    <tr>\n",
       "      <th>1</th>\n",
       "      <td>80</td>\n",
       "      <td>[0.10105234384536743, 0.3860373795032501, -0.7...</td>\n",
       "      <td>Action Comics Annual (DC)</td>\n",
       "      <td>https://comrx.s3-us-west-2.amazonaws.com/cover...</td>\n",
       "    </tr>\n",
       "    <tr>\n",
       "      <th>2</th>\n",
       "      <td>110</td>\n",
       "      <td>[-0.17939595878124237, -0.096303790807724, -1....</td>\n",
       "      <td>Adventure Time (Boom)</td>\n",
       "      <td>https://comrx.s3-us-west-2.amazonaws.com/cover...</td>\n",
       "    </tr>\n",
       "    <tr>\n",
       "      <th>3</th>\n",
       "      <td>140</td>\n",
       "      <td>[0.1732894778251648, -0.3066675066947937, -0.4...</td>\n",
       "      <td>Age of X-Man Amazing Nightcra (Marvel)</td>\n",
       "      <td>https://comrx.s3-us-west-2.amazonaws.com/cover...</td>\n",
       "    </tr>\n",
       "    <tr>\n",
       "      <th>4</th>\n",
       "      <td>160</td>\n",
       "      <td>[-0.3997923731803894, -0.17846563458442688, -0...</td>\n",
       "      <td>Aliens Defiance (Dark Horse)</td>\n",
       "      <td>https://comrx.s3-us-west-2.amazonaws.com/cover...</td>\n",
       "    </tr>\n",
       "  </tbody>\n",
       "</table>\n",
       "</div>"
      ],
      "text/plain": [
       "   comic_id                                           features  \\\n",
       "0        60  [-0.12471740692853928, -0.13675494492053986, -...   \n",
       "1        80  [0.10105234384536743, 0.3860373795032501, -0.7...   \n",
       "2       110  [-0.17939595878124237, -0.096303790807724, -1....   \n",
       "3       140  [0.1732894778251648, -0.3066675066947937, -0.4...   \n",
       "4       160  [-0.3997923731803894, -0.17846563458442688, -0...   \n",
       "\n",
       "                              comic_title  \\\n",
       "0                          8house (Image)   \n",
       "1               Action Comics Annual (DC)   \n",
       "2                   Adventure Time (Boom)   \n",
       "3  Age of X-Man Amazing Nightcra (Marvel)   \n",
       "4            Aliens Defiance (Dark Horse)   \n",
       "\n",
       "                                             img_url  \n",
       "0  https://comrx.s3-us-west-2.amazonaws.com/cover...  \n",
       "1  https://comrx.s3-us-west-2.amazonaws.com/cover...  \n",
       "2  https://comrx.s3-us-west-2.amazonaws.com/cover...  \n",
       "3  https://comrx.s3-us-west-2.amazonaws.com/cover...  \n",
       "4  https://comrx.s3-us-west-2.amazonaws.com/cover...  "
      ]
     },
     "execution_count": 60,
     "metadata": {},
     "output_type": "execute_result"
    }
   ],
   "source": [
    "combo.head()"
   ]
  },
  {
   "cell_type": "code",
   "execution_count": 62,
   "metadata": {},
   "outputs": [],
   "source": [
    "coms.to_pickle('support_data/comics_factors_use.pkl')"
   ]
  }
 ],
 "metadata": {
  "kernelspec": {
   "display_name": "Python 3",
   "language": "python",
   "name": "python3"
  },
  "language_info": {
   "codemirror_mode": {
    "name": "ipython",
    "version": 3
   },
   "file_extension": ".py",
   "mimetype": "text/x-python",
   "name": "python",
   "nbconvert_exporter": "python",
   "pygments_lexer": "ipython3",
   "version": "3.6.6"
  }
 },
 "nbformat": 4,
 "nbformat_minor": 2
}
